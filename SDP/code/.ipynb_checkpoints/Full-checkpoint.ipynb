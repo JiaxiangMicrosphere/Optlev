{
 "cells": [
  {
   "cell_type": "code",
   "execution_count": 342,
   "metadata": {
    "collapsed": false,
    "deletable": true,
    "editable": true,
    "scrolled": true
   },
   "outputs": [],
   "source": [
    "import skimage\n",
    "import scipy\n",
    "import fnmatch\n",
    "import os\n",
    "from scipy import ndimage\n",
    "from skimage import io, segmentation, morphology, measure\n",
    "from skimage import color, data, img_as_float\n",
    "from matplotlib import pyplot as plt\n",
    "import numpy as np\n",
    "import matplotlib.mlab as mlab\n",
    "from EquilibriumValuesFromSphereDiameter import getPowerFromSphereSize as gp\n",
    "from mpl_toolkits.mplot3d import Axes3D\n",
    "from scipy.interpolate import interp1d\n",
    "\n",
    "fors = \"microscope\"\n",
    "scale = 4.3*1.15\n",
    "convfac = 6.2/scale #remember to update when switching calibrations\n",
    "baseimg = \"/home/adam/Optlev/SDP/images/\" + fors + \"/\"\n",
    "basedata = \"/home/adam/Optlev/SDP/data/\" + fors + \"/\"\n",
    "baseresult = \"/home/adam/Optlev/SDP/results/\" + fors + \"/\"\n",
    "\n",
    "def getPaths(num, beta):\n",
    "    pngpath = baseimg + str(num) + \".png\"\n",
    "    npypath = basedata + str(num) + \".npy\"\n",
    "    txtpath = baseresult + str(num) + \" \" + str(beta) + \".txt\"\n",
    "    respath = baseresult + str(num) + \" \" + str(beta) + \".png\"\n",
    "    ovpath = baseresult + str(num) + \" \" + str(beta) + \"ov.png\"\n",
    "    diampath = baseresult + str(num) + \"diams.txt\"\n",
    "    return pngpath, npypath, txtpath, respath, ovpath, diampath\n",
    "\n",
    "def getFiles(num, beta):\n",
    "    pngpath, npypath, txtpath, respath, ovpath, diampath = getPaths(num, beta)\n",
    "    image = io.imread(pngpath)\n",
    "    y, x = np.load(npypath).T\n",
    "    markers = np.zeros(image.shape, dtype=np.int)\n",
    "    markers[x.astype(np.int), y.astype(np.int)] = np.arange(len(x))+1\n",
    "    #markers = morphology.dilation(markers, morphology.disk(15))\n",
    "    rw = segmentation.random_walker(image, markers, beta=beta)\n",
    "    properties = measure.regionprops(rw)\n",
    "    areas = np.zeros(len(x))\n",
    "    for i in range(0,len(x)):\n",
    "        areas[i] = properties[i].area\n",
    "    diameters = 2*np.sqrt(areas/np.pi)/scale\n",
    "    #rwSphere = getSphere(rw)\n",
    "    #ov = overlaySeg(image, rwSphere)\n",
    "    np.savetxt(txtpath, diameters, fmt=\"%1.8f\")\n",
    "    scipy.misc.imsave(respath, rw)\n",
    "    #scipy.misc.imsave(ovpath, ov)\n",
    "    #return rw, image\n",
    "    \n",
    "\n",
    "def overlaySeg(image, rw):\n",
    "    rows, cols = image.shape\n",
    "    rw_blank = np.zeros(rw.shape)\n",
    "    # Construct RGB version of grey-level image\n",
    "    image_color = np.dstack((image, image, image))\n",
    "    rw_color = np.dstack((rw*255, rw_blank, rw_blank))\n",
    "\n",
    "    # Convert the input image and color mask to Hue Saturation Value (HSV)\n",
    "    # colorspace\n",
    "    img_hsv = color.rgb2hsv(image_color)\n",
    "    rw_hsv = color.rgb2hsv(rw_color)\n",
    "\n",
    "    # Replace the hue and saturation of the original image\n",
    "    # with that of the color mask\n",
    "    img_hsv[..., 0] = rw_hsv[..., 0]\n",
    "    img_hsv[..., 1] = rw_hsv[..., 1]\n",
    "\n",
    "    ov = color.hsv2rgb(img_hsv)\n",
    "    return ov\n",
    "\n",
    "#f, axarr = plt.subplots(2, 2)\n",
    "#axarr[0, 0].imshow(rw)\n",
    "#axarr[0, 1].imshow(image, cmap=\"gray\")\n",
    "#axarr[1, 0].imshow(markers)\n",
    "#axarr[1, 1].imshow(watershed, cmap=\"gray\")\n",
    "# Fine-tune figure; hide x ticks for top plots and y ticks for right plots\n",
    "#plt.setp([a.get_xticklabels() for a in axarr[0, :]], visible=False)\n",
    "#plt.setp([a.get_yticklabels() for a in axarr[:, 1]], visible=False)\n",
    "\n",
    "def plotImages(rw, image):\n",
    "    plt.imshow(rw)\n",
    "    plt.show()\n",
    "    plt.imshow(image, cmap=\"gray\")\n",
    "    plt.show()\n",
    "    \n",
    "def getSphere(rw):\n",
    "    for x in np.nditer(rw, op_flags=['readwrite']):\n",
    "        if x > 1:\n",
    "            x[...] = 0\n",
    "    return(rw)\n",
    "\n",
    "def getPath(forset):\n",
    "    outPath = \"/home/adam/Optlev/SDP/results/\" + forset + \"/\"\n",
    "    return outPath\n",
    "    \n",
    "#other file    \n",
    "    \n",
    "def eliminateValues(values, lower, upper, forset):\n",
    "    index = []\n",
    "    for i in range(0, values.shape[0]):\n",
    "        if (values[i] > upper or values[i] < lower):\n",
    "            index = np.append(index, i)\n",
    "    cutvalues = np.delete(values, index)      \n",
    "    np.savetxt(getPath(forset) + str(lower) + str(upper) + \".txt\", cutvalues, fmt=\"%1.8f\")\n",
    "    return(cutvalues)\n",
    "\n",
    "def getPowers(values, eqpos, na, forset):\n",
    "    powers = np.zeros(values.shape[0])\n",
    "    for i in range(0, values.shape[0]):\n",
    "        powers[i] = gp(values[i], eqpos, na)\n",
    "    #np.savetxt(getPath(forset)+\"spheres power data \" + str(eqpos) + \".txt\", powers, fmt=\"%1.8f\")\n",
    "    return(powers)\n",
    "\n",
    "def combineFiles(num, forset):\n",
    "    values = []\n",
    "    for i in range(1, num+1):\n",
    "        values = np.concatenate((values, np.loadtxt(getPath(forset) + str(i) + \".txt\")))\n",
    "    #np.savetxt(getPath(forset)+\"full.txt\", values, fmt=\"%1.8f\")\n",
    "    return values\n",
    "\n",
    "def getArea(num, path):\n",
    "    for file in os.listdir(path):\n",
    "        if fnmatch.fnmatch(file, str(num)+\" *.txt\"):\n",
    "            return np.loadtxt(os.path.join(path,file))[0]\n",
    "        \n",
    "def combineAreas(num, path):\n",
    "    values = []\n",
    "    for i in range(1,num+1):\n",
    "        values = np.append(values, getArea(i, path))\n",
    "    return values\n",
    "\n",
    "def getFullFile(num, path):\n",
    "    for file in os.listdir(path):\n",
    "        if fnmatch.fnmatch(file, str(num)+\" *s.txt\"):\n",
    "            return np.loadtxt(os.path.join(path, file))\n",
    "            \n",
    "def combineFullFiles(num, path):\n",
    "    values = []\n",
    "    for i in range(1, num+1):\n",
    "        values = np.concatenate((values, getFullFile(i, path)))\n",
    "    return values\n",
    "            \n",
    "def combineDataOld(num, path):\n",
    "    values = []\n",
    "    for i in range(1, num+1):\n",
    "        values = np.append(values, np.loadtxt(os.path.join(path, str(i)+\".txt\"))[0])\n",
    "    return values\n",
    "\n",
    "def combineDiamsOld(num, path):\n",
    "    values = []\n",
    "    for i in range(1, num+1):\n",
    "        image = io.imread(os.path.join(path, str(i)+\".png\"))\n",
    "        colsums = np.sum(image, axis=0)\n",
    "        values = np.append(values, np.amax(colsums)/(255*scale))\n",
    "    return values\n",
    "        \n",
    "def getDiam(num, path):\n",
    "    for file in os.listdir(path):\n",
    "            if fnmatch.fnmatch(file, str(num)+\" *0.png\"):\n",
    "                image = io.imread(os.path.join(path, file))\n",
    "                colsums = np.sum(image, axis=0)\n",
    "                return np.amax(colsums)/(255*scale)\n",
    "                \n",
    "def combineDiams(num, path):\n",
    "    diams = []\n",
    "    for i in range(1, num+1):\n",
    "        diams = np.append(diams, getDiam(i, path))\n",
    "    return diams\n",
    "\n",
    "def getKSradialscale(scale, theory, real):\n",
    "    powertheory = getPowers(theory*scale, 50, .0093, \"set 2\")\n",
    "    #print(str(np.median(powertheory)) + \" - \" + str(scale))\n",
    "    d, p = scipy.stats.ks_2samp(powertheory, real)\n",
    "    return d, p\n",
    "\n",
    "def getKSheightscale(scale, theory, real):\n",
    "    powertheory = getPowers(theory, 50*scale, .0093, \"set 2\")\n",
    "    #print(str(np.median(powertheory)) + \" - \" + str(scale))\n",
    "    d, p = scipy.stats.ks_2samp(powertheory, real)\n",
    "    return d, p\n",
    "\n",
    "def getKSNAscale(scale, theory, real):\n",
    "    powertheory = getPowers(theory, 50, .0093*scale, \"set 2\")\n",
    "    #print(str(np.median(powertheory)) + \" - \" + str(scale))\n",
    "    d, p = scipy.stats.ks_2samp(powertheory, real)\n",
    "    return d, p\n",
    "\n",
    "def getKSbothscale(radscale, heightscale, theory, real):\n",
    "    powertheory = getPowers(radscale*theory, heightscale*50, .0093, \"set 2\")\n",
    "    #print(str(np.median(powertheory)) + \" - \" + str(scale))\n",
    "    d, p = scipy.stats.ks_2samp(powertheory, real)\n",
    "    return d, p\n",
    "\n",
    "def getX2bothscale(radscale, heightscale, theory, real):\n",
    "    powertheory = getPowers(radscale*theory, heightscale*50, .0093, \"set 2\")\n",
    "    #print(str(np.median(powertheory)) + \" - \" + str(scale))\n",
    "    d, p = scipy.stats.chisquare(real, powertheory)\n",
    "    return d, p\n",
    "\n",
    "def getValues(forset, radtuple, heighttuple):\n",
    "    radialscalevals = np.linspace(radtuple[0], radtuple[1], radtuple[2])\n",
    "    heightscalevals = np.linspace(heighttuple[0], heighttuple[1], heighttuple[2])\n",
    "    values = np.loadtxt(getPath(forset)+\"full.txt\")\n",
    "    num = eliminateValues(values, 8, 25, forset)\n",
    "    DC = [-540, -620, 20, 80, -620, 420, -670, -620, -25, -440, -510, -840, -180, -90, -500, -660, -340, 70, -500, -730, -400, -100, -285, -230, -510, -880, -90, -170, -600, -40, -240, -570, -110, -400, -250, -750, -760, -130, -590, -540, -400, -570, -235, -710, -640, -590, -510]\n",
    "    power = 7.36428571e-02*np.array(DC) + 1.02128571e+02\n",
    "    #print(np.median(power))\n",
    "    #ds = []\n",
    "    ps = []\n",
    "    xs = []\n",
    "    ys = []\n",
    "    for i in range(0,radtuple[2]):\n",
    "        for j in range(0,heighttuple[2]):\n",
    "            dtemp, ptemp = getX2bothscale(radialscalevals[i], heightscalevals[j], num, power)\n",
    "            #ds = np.append(ds, dtemp)\n",
    "            ps = np.append(ps, ptemp)\n",
    "            xs = np.append(xs, radialscalevals[i])\n",
    "            ys = np.append(ys, heightscalevals[j])\n",
    "    return xs, ys, ps\n"
   ]
  },
  {
   "cell_type": "code",
   "execution_count": 341,
   "metadata": {
    "collapsed": false
   },
   "outputs": [
    {
     "name": "stdout",
     "output_type": "stream",
     "text": [
      "15.8139534884\n",
      "1.606053006\n",
      "15.0279229575\n",
      "2.66904906648\n"
     ]
    }
   ],
   "source": [
    "values = combineFullFiles(42, baseresult)+4/(scale*convfac)\n",
    "diams = combineDiams(35, \"/home/adam/Optlev/SDP/results/fernando/2000000/\")-5/scale\n",
    "print(np.mean(diams))\n",
    "print(np.std(diams))\n",
    "print(np.mean(values))\n",
    "print(np.std(values))"
   ]
  },
  {
   "cell_type": "code",
   "execution_count": 348,
   "metadata": {
    "collapsed": false,
    "scrolled": true
   },
   "outputs": [
    {
     "name": "stdout",
     "output_type": "stream",
     "text": [
      "1997699.52724\n",
      "42.0\n",
      "2121361.43292\n",
      "21777.8588262\n"
     ]
    }
   ],
   "source": [
    "m=1\n",
    "n=1\n",
    "a= .015\n",
    "b= .015\n",
    "nu= .33\n",
    "E= 69*np.power(10,9)\n",
    "h= .0075\n",
    "rho = 2800\n",
    "\n",
    "Dtop= 2/3*np.power(h, 3)*E\n",
    "Dbot = 1-np.power(nu,2)\n",
    "D = Dtop/Dbot\n",
    "\n",
    "top = D*np.power(np.pi, 4)\n",
    "bot = 2*rho*h\n",
    "freq = (m**2/a**2+n**2/b**2)*np.sqrt(top/bot)\n",
    "print(freq)\n",
    "print(bot)\n",
    "print(top)\n",
    "print(D)"
   ]
  },
  {
   "cell_type": "code",
   "execution_count": 308,
   "metadata": {
    "collapsed": false,
    "scrolled": true
   },
   "outputs": [
    {
     "name": "stdout",
     "output_type": "stream",
     "text": [
      "15.8139534884\n",
      "0.271472506269\n",
      "a slope: 0.00557385058146\n",
      "a error: 0.848813157752\n"
     ]
    },
    {
     "data": {
      "image/png": "[encoded data removed]",
      "text/plain": [
       "<matplotlib.figure.Figure at 0x7fd1b76e34e0>"
      ]
     },
     "metadata": {},
     "output_type": "display_data"
    },
    {
     "name": "stdout",
     "output_type": "stream",
     "text": [
      "d slope: 0.00554923956703\n",
      "d error: 0.848833964748\n"
     ]
    },
    {
     "data": {
      "image/png": "[encoded data removed]",
      "text/plain": [
       "<matplotlib.figure.Figure at 0x7fd1b58647b8>"
      ]
     },
     "metadata": {},
     "output_type": "display_data"
    },
    {
     "name": "stdout",
     "output_type": "stream",
     "text": [
      "Mass: 8.16758650276e-09±1.30568952616e-09\n"
     ]
    }
   ],
   "source": [
    "yvalues = combineAreas(35, baseresult)\n",
    "diams = combineDiams(35, baseresult) - 5/scale\n",
    "yvalues = yvalues - np.mean(yvalues) + np.mean(diams)\n",
    "print(np.mean(diams))\n",
    "print(np.std(diams)/np.sqrt(len(diams)))\n",
    "#print(np.mean(oldyvalues))\n",
    "#print(gp(17.257, 10, .0093))\n",
    "#powers10 = getPowers(yvalues, 10, .0093, \"fernando\")\n",
    "oldxvals = [-40, -100, -130, -170, -230, -235, -250, -400, -400, -500, -510, -510, -540, -570, -570, -590, -600, -630, -640, -710, -730, -750]\n",
    "newxvals = [-510, -180, 150, -260, -510, -640, 70, -90, -670, -690, -670, -460, -460]\n",
    "oldxvalues = np.array(oldxvals)\n",
    "newxvalues = np.array(newxvals)\n",
    "xvalues = np.hstack((oldxvalues,newxvalues))\n",
    "#slope, intercept, r_value, p_value, stderr\n",
    "astats = scipy.stats.linregress(xvalues, yvalues)\n",
    "dstats = scipy.stats.linregress(xvalues, diams)\n",
    "ainterps = xvalues*astats[0]+astats[1]\n",
    "aerror = np.std(yvalues-ainterps)\n",
    "dinterps = xvalues*dstats[0]+dstats[1]\n",
    "derror = np.std(yvalues-dinterps)\n",
    "#print(\"oldslope: \"+str(oldstats[0]))\n",
    "print(\"a slope: \" + str(astats[0]))\n",
    "#print(\"olderror: \"+str(olderror))\n",
    "print(\"a error: \" + str(aerror))\n",
    "plt.plot(xvalues, yvalues, \"ro\")\n",
    "#plt.plot(oldxvalues, oldyvalues, \"go\")\n",
    "#plt.plot(xvalues[26:36], yvalues[26:36], \"co\")\n",
    "plt.plot(xvalues, ainterps)\n",
    "#plt.plot(oldxvalues, oldinterps, \"--c\")\n",
    "plt.errorbar(xvalues, ainterps, yerr=aerror, fmt=\"none\")\n",
    "plt.plot(xvalues, diams, \"bo\")\n",
    "plt.plot(xvalues, dinterps)\n",
    "plt.errorbar(xvalues, dinterps, yerr=derror, fmt=\"none\")\n",
    "plt.show()\n",
    "print(\"d slope: \" + str(dstats[0]))\n",
    "print(\"d error: \" + str(derror))\n",
    "\n",
    "plt.plot(xvalues, yvalues-diams, \"go\")\n",
    "plt.show()\n",
    "dc = 4#np.array(float(input(\"DC Offset: \")))\n",
    "diam = dc*dstats[0]+dstats[1]\n",
    "vol = np.pi/6.0*np.power(diam,3)\n",
    "density = 2.6E-12 # in g/um^3\n",
    "mass = 1.0*vol*density\n",
    "masserror = 3*mass*error/diam\n",
    "print(\"Mass: \" + str(mass) + \"±\" + str(masserror))"
   ]
  },
  {
   "cell_type": "code",
   "execution_count": 243,
   "metadata": {
    "collapsed": false,
    "deletable": true,
    "editable": true
   },
   "outputs": [],
   "source": [
    "#paths2 = getPaths(2)\n",
    "#image1 = io.imread(paths1[0])\n",
    "#image2 = io.imread(baseimg+\"test.png\")\n",
    "#plt.imshow(image1 - image2)\n",
    "#plt.show()\n",
    "#plt.imshow(image2)\n",
    "#plt.show()"
   ]
  },
  {
   "cell_type": "code",
   "execution_count": 116,
   "metadata": {
    "collapsed": false,
    "deletable": true,
    "editable": true
   },
   "outputs": [],
   "source": [
    "#xs, ys, ps = getValues(\"set 2\", [.62, .67, 20], [1,1.5,20])\n",
    "#pmax = []\n",
    "#for i in range(0,20):\n",
    "#    tempmax = 0\n",
    "#    jmax = 0\n",
    "#    for j in range(0,20):\n",
    "#        if ps[20*i+j] > tempmax:\n",
    "#            tempmax = ps[20*i+j]\n",
    "#            jmax = j\n",
    "#    pstring = str(tempmax) + \" rad = \" + str(i) + \", height = \" + str(jmax)\n",
    "#    pmax = np.append(pmax, pstring)\n",
    "#print(pmax)\n",
    "#fig = plt.figure()\n",
    "#ax = fig.add_subplot(111, projection='3d')\n",
    "#ax.scatter(xs, ys, ps)\n",
    "#ax.set_xlabel(\"radial factor\")\n",
    "#ax.set_ylabel(\"height factor\")\n",
    "#plt.show()\n",
    "#ind = np.where(np.equal(ps,np.amax(ps)))\n",
    "#print(ps[ind])\n",
    "#print(ps)\n",
    "#print(scalevals[ind])\n",
    "    "
   ]
  },
  {
   "cell_type": "code",
   "execution_count": 135,
   "metadata": {
    "collapsed": false,
    "deletable": true,
    "editable": true,
    "scrolled": true
   },
   "outputs": [
    {
     "name": "stdout",
     "output_type": "stream",
     "text": [
      "n = 1322\n",
      "mean = 14.6942538905\n",
      "std = 2.67865858161\n"
     ]
    },
    {
     "data": {
      "image/png": "[encoded data removed]",
      "text/plain": [
       "<matplotlib.figure.Figure at 0x7fd1b6cc0da0>"
      ]
     },
     "metadata": {},
     "output_type": "display_data"
    }
   ],
   "source": [
    "num = np.loadtxt(\"/home/adam/Optlev/SDP/results/set 2/full825.txt\")\n",
    "#num = combineFiles(6,\"35um\")\n",
    "#num = num\n",
    "print(\"n = \" + str(num.shape[0]))\n",
    "print(\"mean = \" + str(np.mean(num)))\n",
    "print(\"std = \" + str(np.std(num)))\n",
    "n, bins = np.histogram(num, bins=\"auto\")\n",
    "plt.plot(bins[:-1], n)\n",
    "plt.show()\n",
    "#powervalues = getPowers(num, 50, .0093, \"set 2\")\n",
    "#powervalues = num ** 3\n",
    "#print(\"n = \" + str(powervalues.shape[0]))\n",
    "#print(\"mean = \" + str(np.mean(powervalues)))\n",
    "#print(\"std = \" + str(np.std(powervalues)))\n",
    "#n2, bins2, patches2 = plt.hist(powervalues, 12, range=(np.amin(powervalues),np.amax(powervalues)), normed=0)\n",
    "#plt.show()\n",
    "\n",
    "#DC = [-540, -620, 20, 80, -620, 420, -670, -620, -25, -440, -510, -840, -180, -90, -500, -660, -340, 70, -500, -730, -400, -100, -285, -230, -510, -880, -90, -170, -600, -40, -240, -570, -110, -400, -250, -750, -760, -130, -590, -540, -400, -570, -235, -710, -640, -590, -510]\n",
    "#power = 7.36428571e-02*np.array(DC) + 1.02128571e+02\n",
    "#print(\"n = \" + str(power.shape[0]))\n",
    "#print(\"mean = \" + str(np.mean(power)))\n",
    "#print(\"std = \" + str(np.std(power)))\n",
    "#n3, bins3, patches3 = plt.hist(power, 12, range=(np.amin(power), np.amax(power)), normed=0)\n",
    "#plt.show()"
   ]
  },
  {
   "cell_type": "code",
   "execution_count": 15,
   "metadata": {
    "collapsed": false,
    "deletable": true,
    "editable": true
   },
   "outputs": [
    {
     "data": {
      "text/plain": [
       "<matplotlib.text.Text at 0x7fd1b6d17b70>"
      ]
     },
     "execution_count": 15,
     "metadata": {},
     "output_type": "execute_result"
    }
   ],
   "source": [
    "#n2norm = 47/1322 * n2\n",
    "#plt.plot(bins2[1:], n2norm)\n",
    "#plt.show()\n",
    "#scipy.stats.chisquare(n3, n2norm)\n",
    "\n",
    "ampscale = np.linspace(12,20,20)\n",
    "lengthscale = np.linspace(25,50,10)\n",
    "x2 = []\n",
    "p = []\n",
    "x = []\n",
    "y = []\n",
    "nf, binsf = np.histogram(power, 12)\n",
    "powervalues = num ** 3\n",
    "na, binsa = np.histogram(powervalues, 50)\n",
    "smoothedpower = scipy.signal.savgol_filter(na,5,3)\n",
    "powerinterp = interp1d(binsa[:-1], smoothedpower, bounds_error = False, fill_value=(0.001,0.001))\n",
    "for i in range(0, len(ampscale)):\n",
    "    for j in range(0, len(lengthscale)):\n",
    "        nfsim = powerinterp(lengthscale[j]*binsf[:-1])/ampscale[i]\n",
    "        x2temp, ptemp = scipy.stats.chisquare(nf, nfsim)\n",
    "        x2 = np.append(x2, x2temp)\n",
    "        p = np.append(p, ptemp)\n",
    "        x = np.append(x, ampscale[i])\n",
    "        y = np.append(y, lengthscale[j])\n",
    "\n",
    "#plt.plot(binsa[:-1], smoothedpower)\n",
    "#plt.show()\n",
    "#plt.plot(binsf[:-1], nf)\n",
    "#plt.plot(binsf[:-1], powerinterp(binsf[:-1]*49)/16)\n",
    "#plt.show()\n",
    "#fig = plt.figure()\n",
    "#ax = fig.add_subplot(111, projection='3d')\n",
    "#ax.scatter(x, y, x2)\n",
    "#ax.set_xlabel(\"amp factor\")\n",
    "#ax.set_ylabel(\"length factor\")\n",
    "#plt.show()\n",
    "#fig = plt.figure()\n",
    "#ax = fig.add_subplot(111, projection='3d')\n",
    "#ax.scatter(x, y, p)\n",
    "#ax.set_xlabel(\"amp factor\")\n",
    "#ax.set_ylabel(\"length factor\")\n",
    "#plt.show()\n",
    "#plt.plot(binsf[:-1], nf)\n",
    "#plt.show()\n",
    "#print(x2)\n",
    "#print(p)\n",
    "#plt.plot(scale, x2)\n",
    "#plt.plot(scale, p)\n",
    "#plt.show()"
   ]
  },
  {
   "cell_type": "code",
   "execution_count": 69,
   "metadata": {
    "collapsed": false,
    "deletable": true,
    "editable": true
   },
   "outputs": [
    {
     "data": {
      "text/plain": [
       "[<matplotlib.lines.Line2D at 0x7fd1b69cb748>]"
      ]
     },
     "execution_count": 69,
     "metadata": {},
     "output_type": "execute_result"
    }
   ],
   "source": [
    "#values = powerinterp(binsf[:-1]*50)/16\n",
    "#poissonvalues = np.exp(-values)*(values**nf)/(scipy.misc.factorial(nf))\n",
    "def edgeBins(bins):\n",
    "    binspace = bins[1] - bins[0]\n",
    "    prebins = [bins[0]-binspace, bins[0]-binspace/2]\n",
    "    postbins = [bins[-1]+binspace, bins[-1]+2*binspace]\n",
    "    bins_edged = np.hstack((np.hstack((prebins, bins)), postbins))\n",
    "    return bins_edged\n",
    "\n",
    "def edgeNums(nums):\n",
    "    prenums = [0,0]\n",
    "    postnums = [0,0]\n",
    "    nums_edged = np.hstack((np.hstack((prenums, nums)), postnums))\n",
    "    return nums_edged\n",
    "\n",
    "def func(scales):\n",
    "    values = powerinterp(binse_edged[:-1]*scales[0]-scales[1])/scales[2]\n",
    "    poissonvalues = np.exp(-values)*(values**ne_edged)/(scipy.misc.factorial(ne_edged))\n",
    "    return -np.sum(np.log(poissonvalues))\n",
    "\n",
    "nf, binsf = np.histogram(power, 12)\n",
    "powervalues = num ** 3\n",
    "na, binsa = np.histogram(powervalues, 50)\n",
    "binsa_edged = edgeBins(binsa)\n",
    "binsf_edged = edgeBins(binsf)\n",
    "na_edged = edgeNums(na)\n",
    "nf_edged = edgeNums(nf)\n",
    "smoothedpower = scipy.signal.savgol_filter(na_edged,5,3)\n",
    "powerinterp = interp1d(binsa_edged[:-1], smoothedpower, bounds_error = False, fill_value=(0.001,0.001))\n",
    "plt.plot(binsa_edged[:-1], smoothedpower)\n",
    "#plt.show()"
   ]
  },
  {
   "cell_type": "code",
   "execution_count": 88,
   "metadata": {
    "collapsed": false
   },
   "outputs": [
    {
     "name": "stdout",
     "output_type": "stream",
     "text": [
      "[  2.30324998  19.21238257  15.76226589]\n",
      "16.4214337947\n"
     ]
    },
    {
     "data": {
      "image/png": "[encoded data removed]",
      "text/plain": [
       "<matplotlib.figure.Figure at 0x7fd1b783d080>"
      ]
     },
     "metadata": {},
     "output_type": "display_data"
    },
    {
     "data": {
      "image/png": "[encoded data removed]",
      "text/plain": [
       "<matplotlib.figure.Figure at 0x7fd1b6bac1d0>"
      ]
     },
     "metadata": {},
     "output_type": "display_data"
    },
    {
     "name": "stdout",
     "output_type": "stream",
     "text": [
      "15.560963348\n"
     ]
    }
   ],
   "source": [
    "evalues = combineData(30, \"fernando\")\n",
    "values = np.loadtxt(\"/home/adam/Optlev/SDP/results/set 2/full.txt\")\n",
    "tvalues = eliminateValues(values, 8, 25, \"set 2\")\n",
    "ne, binse = np.histogram(evalues, bins=\"auto\")\n",
    "nt, binst = np.histogram(tvalues, bins=\"auto\")\n",
    "binse_edged = edgeBins(binse)\n",
    "binst_edged = edgeBins(binst)\n",
    "ne_edged = edgeNums(ne)\n",
    "nt_edged = edgeNums(nt)\n",
    "powerinterp = interp1d(binst_edged[:-1], nt_edged, bounds_error = False, fill_value=(0.001,0.001))\n",
    "bounds = ((0,5), (None, None), (10,20))\n",
    "result = scipy.optimize.minimize(func, (2.5,24,15), method= \"TNC\", bounds = bounds, options={\"maxiter\":100})\n",
    "resvals = result.get(\"x\")\n",
    "resfunc = result.get(\"fun\")\n",
    "print(resvals)\n",
    "print(resfunc)\n",
    "plt.plot(binse_edged[:-1], ne_edged)\n",
    "plt.plot(binse_edged[:-1], powerinterp(binse_edged[:-1]*resvals[0]-resvals[1])/resvals[2])\n",
    "plt.show()\n",
    "#plt.plot(binse_edged[:-1], ne_edged)\n",
    "#plt.plot(binse_edged[:-1], powerinterp(binse_edged[:-1]*2.5-23)/14)\n",
    "#plt.show()\n",
    "print(np.mean(evalues)*resvals[0]-resvals[1])"
   ]
  },
  {
   "cell_type": "code",
   "execution_count": null,
   "metadata": {
    "collapsed": false,
    "deletable": true,
    "editable": true
   },
   "outputs": [],
   "source": [
    "#adam_pts, fernando_pts, x_pts = zip(*((x, y, z) for x, y, z in zip(adam_pts, fernando_pts, x_pts) if ((x != 0.0) and (y != 'nan'))))"
   ]
  },
  {
   "cell_type": "code",
   "execution_count": 90,
   "metadata": {
    "collapsed": false
   },
   "outputs": [
    {
     "data": {
      "image/png": "[encoded data removed]",
      "text/plain": [
       "<matplotlib.figure.Figure at 0x7fd1b76cdda0>"
      ]
     },
     "metadata": {},
     "output_type": "display_data"
    }
   ],
   "source": [
    "plt.plot(xvalues, yvalues, \"b.\")\n",
    "plt.plot(xvalues, combineData(30, \"fernando\"), \"g.\")\n",
    "plt.show()"
   ]
  },
  {
   "cell_type": "code",
   "execution_count": null,
   "metadata": {
    "collapsed": false,
    "deletable": true,
    "editable": true
   },
   "outputs": [],
   "source": [
    "import numpy as np\n",
    "import matplotlib.pyplot as plt\n",
    "\n",
    "def loadcol(colnum, num=1):\n",
    "    return np.loadtxt(\"/home/adam/Downloads/dist=\"+str(num)+\".txt\", skiprows=8, usecols=(colnum,))\n",
    "xdata = loadcol(0,2)\n",
    "ydata = loadcol(1,2)\n",
    "plt.plot(xdata, ydata, \"ro\")\n",
    "#plt.show()"
   ]
  }
 ],
 "metadata": {
  "kernelspec": {
   "display_name": "Python 3",
   "language": "python",
   "name": "python3"
  },
  "language_info": {
   "codemirror_mode": {
    "name": "ipython",
    "version": 3
   },
   "file_extension": ".py",
   "mimetype": "text/x-python",
   "name": "python",
   "nbconvert_exporter": "python",
   "pygments_lexer": "ipython3",
   "version": "3.5.2"
  }
 },
 "nbformat": 4,
 "nbformat_minor": 2
}
