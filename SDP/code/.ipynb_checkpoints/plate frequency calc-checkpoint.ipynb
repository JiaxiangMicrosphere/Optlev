{
 "cells": [
  {
   "cell_type": "code",
   "execution_count": null,
   "metadata": {
    "collapsed": true
   },
   "outputs": [],
   "source": [
    "m=1\n",
    "n=1\n",
    "a= .015\n",
    "b= .015\n",
    "nu= .33\n",
    "E= 69*np.power(10,9)\n",
    "h= .0075\n",
    "rho = 2800\n",
    "\n",
    "Dtop= 2/3*np.power(h, 3)*E\n",
    "Dbot = 1-np.power(nu,2)\n",
    "D = Dtop/Dbot\n",
    "\n",
    "top = D*np.power(np.pi, 4)\n",
    "bot = 2*rho*h\n",
    "freq = (m**2/a**2+n**2/b**2)*np.sqrt(top/bot)\n",
    "print(freq)\n",
    "print(bot)\n",
    "print(top)\n",
    "print(D)"
   ]
  }
 ],
 "metadata": {
  "kernelspec": {
   "display_name": "Python 3",
   "language": "python",
   "name": "python3"
  },
  "language_info": {
   "codemirror_mode": {
    "name": "ipython",
    "version": 3
   },
   "file_extension": ".py",
   "mimetype": "text/x-python",
   "name": "python",
   "nbconvert_exporter": "python",
   "pygments_lexer": "ipython3",
   "version": "3.5.2"
  }
 },
 "nbformat": 4,
 "nbformat_minor": 2
}
