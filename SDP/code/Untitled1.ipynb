{
 "cells": [
  {
   "cell_type": "code",
   "execution_count": null,
   "metadata": {
    "collapsed": true,
    "deletable": true,
    "editable": true
   },
   "outputs": [],
   "source": []
  },
  {
   "cell_type": "code",
   "execution_count": null,
   "metadata": {
    "collapsed": true,
    "deletable": true,
    "editable": true
   },
   "outputs": [],
   "source": []
  },
  {
   "cell_type": "code",
   "execution_count": null,
   "metadata": {
    "collapsed": true,
    "deletable": true,
    "editable": true
   },
   "outputs": [],
   "source": []
  },
  {
   "cell_type": "code",
   "execution_count": null,
   "metadata": {
    "collapsed": true,
    "deletable": true,
    "editable": true
   },
   "outputs": [],
   "source": []
  },
  {
   "cell_type": "code",
   "execution_count": null,
   "metadata": {
    "collapsed": true,
    "deletable": true,
    "editable": true
   },
   "outputs": [],
   "source": []
  },
  {
   "cell_type": "markdown",
   "metadata": {
    "deletable": true,
    "editable": true
   },
   "source": [
    "import numpy as np\n",
    "from SphereFunctions import combineAreas, combineDiams\n",
    "\n",
    "yvalues = combineAreas(35, baseresult)\n",
    "diams = combineDiams(35, baseresult) - 5/scale\n",
    "yvalues = yvalues - np.mean(yvalues) + np.mean(diams)\n",
    "print(np.mean(diams))\n",
    "print(np.std(diams)/np.sqrt(len(diams)))\n",
    "#print(np.mean(oldyvalues))\n",
    "#print(gp(17.257, 10, .0093))\n",
    "#powers10 = getPowers(yvalues, 10, .0093, \"fernando\")\n",
    "oldxvals = [-40, -100, -130, -170, -230, -235, -250, -400, -400, -500, -510, -510, -540, -570, -570, -590, -600, -630, -640, -710, -730, -750]\n",
    "newxvals = [-510, -180, 150, -260, -510, -640, 70, -90, -670, -690, -670, -460, -460]\n",
    "oldxvalues = np.array(oldxvals)\n",
    "newxvalues = np.array(newxvals)\n",
    "xvalues = np.hstack((oldxvalues,newxvalues))\n",
    "#slope, intercept, r_value, p_value, stderr\n",
    "astats = scipy.stats.linregress(xvalues, yvalues)\n",
    "dstats = scipy.stats.linregress(xvalues, diams)\n",
    "ainterps = xvalues*astats[0]+astats[1]\n",
    "aerror = np.std(yvalues-ainterps)\n",
    "dinterps = xvalues*dstats[0]+dstats[1]\n",
    "derror = np.std(yvalues-dinterps)\n",
    "#print(\"oldslope: \"+str(oldstats[0]))\n",
    "print(\"a slope: \" + str(astats[0]))\n",
    "#print(\"olderror: \"+str(olderror))\n",
    "print(\"a error: \" + str(aerror))\n",
    "plt.plot(xvalues, yvalues, \"ro\")\n",
    "#plt.plot(oldxvalues, oldyvalues, \"go\")\n",
    "#plt.plot(xvalues[26:36], yvalues[26:36], \"co\")\n",
    "plt.plot(xvalues, ainterps)\n",
    "#plt.plot(oldxvalues, oldinterps, \"--c\")\n",
    "plt.errorbar(xvalues, ainterps, yerr=aerror, fmt=\"none\")\n",
    "plt.plot(xvalues, diams, \"bo\")\n",
    "plt.plot(xvalues, dinterps)\n",
    "plt.errorbar(xvalues, dinterps, yerr=derror, fmt=\"none\")\n",
    "plt.show()\n",
    "print(\"d slope: \" + str(dstats[0]))\n",
    "print(\"d error: \" + str(derror))\n",
    "\n",
    "plt.plot(xvalues, yvalues-diams, \"go\")\n",
    "plt.show()\n",
    "dc = np.array(float(input(\"DC Offset: \")))\n",
    "diam = dc*dstats[0]+dstats[1]\n",
    "vol = np.pi/6.0*np.power(diam,3)\n",
    "density = 2.6E-12 # in g/um^3\n",
    "mass = 1.0*vol*density\n",
    "masserror = 3*mass*derror/diam\n",
    "print(\"Mass: \" + str(mass) + \"±\" + str(masserror))"
   ]
  }
 ],
 "metadata": {
  "kernelspec": {
   "display_name": "Python 3",
   "language": "python",
   "name": "python3"
  },
  "language_info": {
   "codemirror_mode": {
    "name": "ipython",
    "version": 3
   },
   "file_extension": ".py",
   "mimetype": "text/x-python",
   "name": "python",
   "nbconvert_exporter": "python",
   "pygments_lexer": "ipython3",
   "version": "3.5.2"
  }
 },
 "nbformat": 4,
 "nbformat_minor": 2
}
