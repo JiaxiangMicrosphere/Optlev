{
 "cells": [
  {
   "cell_type": "code",
   "execution_count": 341,
   "metadata": {
    "collapsed": false,
    "deletable": true,
    "editable": true,
    "scrolled": true
   },
   "outputs": [
    {
     "name": "stdout",
     "output_type": "stream",
     "text": [
      "15.8139534884\n",
      "1.606053006\n",
      "15.0279229575\n",
      "2.66904906648\n"
     ]
    }
   ],
   "source": [
    "values = combineFullFiles(42, baseresult)+4/(scale*convfac)\n",
    "diams = combineDiams(35, \"/home/adam/Optlev/SDP/results/fernando/2000000/\")-5/scale\n",
    "print(np.mean(diams))\n",
    "print(np.std(diams))\n",
    "print(np.mean(values))\n",
    "print(np.std(values))"
   ]
  },
  {
   "cell_type": "code",
   "execution_count": 4,
   "metadata": {
    "collapsed": false,
    "deletable": true,
    "editable": true,
    "scrolled": true
   },
   "outputs": [
    {
     "name": "stdout",
     "output_type": "stream",
     "text": [
      "303.318871735\n",
      "1.1450554524\n",
      "a slope: 0.00242186939526\n",
      "a error: 3.29184305373\n"
     ]
    },
    {
     "data": {
      "image/png": "[encoded data removed]",
      "text/plain": [
       "<matplotlib.figure.Figure at 0x7fa1d63b4898>"
      ]
     },
     "metadata": {},
     "output_type": "display_data"
    },
    {
     "name": "stdout",
     "output_type": "stream",
     "text": [
      "d slope: 0.0057420811765\n",
      "d error: 3.3880835033\n"
     ]
    },
    {
     "data": {
      "image/png": "[encoded data removed]",
      "text/plain": [
       "<matplotlib.figure.Figure at 0x7fa1d61367f0>"
      ]
     },
     "metadata": {},
     "output_type": "display_data"
    },
    {
     "ename": "KeyboardInterrupt",
     "evalue": "",
     "output_type": "error",
     "traceback": [
      "\u001b[0;31m---------------------------------------------------------------------------\u001b[0m",
      "\u001b[0;31mKeyboardInterrupt\u001b[0m                         Traceback (most recent call last)",
      "\u001b[0;32m/home/adam/.local/lib/python3.5/site-packages/ipykernel/kernelbase.py\u001b[0m in \u001b[0;36m_input_request\u001b[0;34m(self, prompt, ident, parent, password)\u001b[0m\n\u001b[1;32m    729\u001b[0m             \u001b[0;32mtry\u001b[0m\u001b[0;34m:\u001b[0m\u001b[0;34m\u001b[0m\u001b[0m\n\u001b[0;32m--> 730\u001b[0;31m                 \u001b[0mident\u001b[0m\u001b[0;34m,\u001b[0m \u001b[0mreply\u001b[0m \u001b[0;34m=\u001b[0m \u001b[0mself\u001b[0m\u001b[0;34m.\u001b[0m\u001b[0msession\u001b[0m\u001b[0;34m.\u001b[0m\u001b[0mrecv\u001b[0m\u001b[0;34m(\u001b[0m\u001b[0mself\u001b[0m\u001b[0;34m.\u001b[0m\u001b[0mstdin_socket\u001b[0m\u001b[0;34m,\u001b[0m \u001b[0;36m0\u001b[0m\u001b[0;34m)\u001b[0m\u001b[0;34m\u001b[0m\u001b[0m\n\u001b[0m\u001b[1;32m    731\u001b[0m             \u001b[0;32mexcept\u001b[0m \u001b[0mException\u001b[0m\u001b[0;34m:\u001b[0m\u001b[0;34m\u001b[0m\u001b[0m\n",
      "\u001b[0;32m/home/adam/.local/lib/python3.5/site-packages/jupyter_client/session.py\u001b[0m in \u001b[0;36mrecv\u001b[0;34m(self, socket, mode, content, copy)\u001b[0m\n\u001b[1;32m    777\u001b[0m         \u001b[0;32mtry\u001b[0m\u001b[0;34m:\u001b[0m\u001b[0;34m\u001b[0m\u001b[0m\n\u001b[0;32m--> 778\u001b[0;31m             \u001b[0mmsg_list\u001b[0m \u001b[0;34m=\u001b[0m \u001b[0msocket\u001b[0m\u001b[0;34m.\u001b[0m\u001b[0mrecv_multipart\u001b[0m\u001b[0;34m(\u001b[0m\u001b[0mmode\u001b[0m\u001b[0;34m,\u001b[0m \u001b[0mcopy\u001b[0m\u001b[0;34m=\u001b[0m\u001b[0mcopy\u001b[0m\u001b[0;34m)\u001b[0m\u001b[0;34m\u001b[0m\u001b[0m\n\u001b[0m\u001b[1;32m    779\u001b[0m         \u001b[0;32mexcept\u001b[0m \u001b[0mzmq\u001b[0m\u001b[0;34m.\u001b[0m\u001b[0mZMQError\u001b[0m \u001b[0;32mas\u001b[0m \u001b[0me\u001b[0m\u001b[0;34m:\u001b[0m\u001b[0;34m\u001b[0m\u001b[0m\n",
      "\u001b[0;32m/home/adam/.local/lib/python3.5/site-packages/zmq/sugar/socket.py\u001b[0m in \u001b[0;36mrecv_multipart\u001b[0;34m(self, flags, copy, track)\u001b[0m\n\u001b[1;32m    394\u001b[0m         \"\"\"\n\u001b[0;32m--> 395\u001b[0;31m         \u001b[0mparts\u001b[0m \u001b[0;34m=\u001b[0m \u001b[0;34m[\u001b[0m\u001b[0mself\u001b[0m\u001b[0;34m.\u001b[0m\u001b[0mrecv\u001b[0m\u001b[0;34m(\u001b[0m\u001b[0mflags\u001b[0m\u001b[0;34m,\u001b[0m \u001b[0mcopy\u001b[0m\u001b[0;34m=\u001b[0m\u001b[0mcopy\u001b[0m\u001b[0;34m,\u001b[0m \u001b[0mtrack\u001b[0m\u001b[0;34m=\u001b[0m\u001b[0mtrack\u001b[0m\u001b[0;34m)\u001b[0m\u001b[0;34m]\u001b[0m\u001b[0;34m\u001b[0m\u001b[0m\n\u001b[0m\u001b[1;32m    396\u001b[0m         \u001b[0;31m# have first part already, only loop while more to receive\u001b[0m\u001b[0;34m\u001b[0m\u001b[0;34m\u001b[0m\u001b[0m\n",
      "\u001b[0;32mzmq/backend/cython/socket.pyx\u001b[0m in \u001b[0;36mzmq.backend.cython.socket.Socket.recv (zmq/backend/cython/socket.c:7683)\u001b[0;34m()\u001b[0m\n",
      "\u001b[0;32mzmq/backend/cython/socket.pyx\u001b[0m in \u001b[0;36mzmq.backend.cython.socket.Socket.recv (zmq/backend/cython/socket.c:7460)\u001b[0;34m()\u001b[0m\n",
      "\u001b[0;32mzmq/backend/cython/socket.pyx\u001b[0m in \u001b[0;36mzmq.backend.cython.socket._recv_copy (zmq/backend/cython/socket.c:2344)\u001b[0;34m()\u001b[0m\n",
      "\u001b[0;32m/home/adam/.local/lib/python3.5/site-packages/zmq/backend/cython/checkrc.pxd\u001b[0m in \u001b[0;36mzmq.backend.cython.checkrc._check_rc (zmq/backend/cython/socket.c:9621)\u001b[0;34m()\u001b[0m\n",
      "\u001b[0;31mKeyboardInterrupt\u001b[0m: ",
      "\nDuring handling of the above exception, another exception occurred:\n",
      "\u001b[0;31mKeyboardInterrupt\u001b[0m                         Traceback (most recent call last)",
      "\u001b[0;32m<ipython-input-4-e2ca6b0fca9f>\u001b[0m in \u001b[0;36m<module>\u001b[0;34m()\u001b[0m\n\u001b[1;32m     40\u001b[0m \u001b[0mplt\u001b[0m\u001b[0;34m.\u001b[0m\u001b[0mplot\u001b[0m\u001b[0;34m(\u001b[0m\u001b[0mxvalues\u001b[0m\u001b[0;34m,\u001b[0m \u001b[0myvalues\u001b[0m\u001b[0;34m-\u001b[0m\u001b[0mdiams\u001b[0m\u001b[0;34m,\u001b[0m \u001b[0;34m\"go\"\u001b[0m\u001b[0;34m)\u001b[0m\u001b[0;34m\u001b[0m\u001b[0m\n\u001b[1;32m     41\u001b[0m \u001b[0mplt\u001b[0m\u001b[0;34m.\u001b[0m\u001b[0mshow\u001b[0m\u001b[0;34m(\u001b[0m\u001b[0;34m)\u001b[0m\u001b[0;34m\u001b[0m\u001b[0m\n\u001b[0;32m---> 42\u001b[0;31m \u001b[0mdc\u001b[0m \u001b[0;34m=\u001b[0m \u001b[0mnp\u001b[0m\u001b[0;34m.\u001b[0m\u001b[0marray\u001b[0m\u001b[0;34m(\u001b[0m\u001b[0mfloat\u001b[0m\u001b[0;34m(\u001b[0m\u001b[0minput\u001b[0m\u001b[0;34m(\u001b[0m\u001b[0;34m\"DC Offset: \"\u001b[0m\u001b[0;34m)\u001b[0m\u001b[0;34m)\u001b[0m\u001b[0;34m)\u001b[0m\u001b[0;34m\u001b[0m\u001b[0m\n\u001b[0m\u001b[1;32m     43\u001b[0m \u001b[0mdiam\u001b[0m \u001b[0;34m=\u001b[0m \u001b[0mdc\u001b[0m\u001b[0;34m*\u001b[0m\u001b[0mdstats\u001b[0m\u001b[0;34m[\u001b[0m\u001b[0;36m0\u001b[0m\u001b[0;34m]\u001b[0m\u001b[0;34m+\u001b[0m\u001b[0mdstats\u001b[0m\u001b[0;34m[\u001b[0m\u001b[0;36m1\u001b[0m\u001b[0;34m]\u001b[0m\u001b[0;34m\u001b[0m\u001b[0m\n\u001b[1;32m     44\u001b[0m \u001b[0mvol\u001b[0m \u001b[0;34m=\u001b[0m \u001b[0mnp\u001b[0m\u001b[0;34m.\u001b[0m\u001b[0mpi\u001b[0m\u001b[0;34m/\u001b[0m\u001b[0;36m6.0\u001b[0m\u001b[0;34m*\u001b[0m\u001b[0mnp\u001b[0m\u001b[0;34m.\u001b[0m\u001b[0mpower\u001b[0m\u001b[0;34m(\u001b[0m\u001b[0mdiam\u001b[0m\u001b[0;34m,\u001b[0m\u001b[0;36m3\u001b[0m\u001b[0;34m)\u001b[0m\u001b[0;34m\u001b[0m\u001b[0m\n",
      "\u001b[0;32m/home/adam/.local/lib/python3.5/site-packages/ipykernel/kernelbase.py\u001b[0m in \u001b[0;36mraw_input\u001b[0;34m(self, prompt)\u001b[0m\n\u001b[1;32m    703\u001b[0m             \u001b[0mself\u001b[0m\u001b[0;34m.\u001b[0m\u001b[0m_parent_ident\u001b[0m\u001b[0;34m,\u001b[0m\u001b[0;34m\u001b[0m\u001b[0m\n\u001b[1;32m    704\u001b[0m             \u001b[0mself\u001b[0m\u001b[0;34m.\u001b[0m\u001b[0m_parent_header\u001b[0m\u001b[0;34m,\u001b[0m\u001b[0;34m\u001b[0m\u001b[0m\n\u001b[0;32m--> 705\u001b[0;31m             \u001b[0mpassword\u001b[0m\u001b[0;34m=\u001b[0m\u001b[0;32mFalse\u001b[0m\u001b[0;34m,\u001b[0m\u001b[0;34m\u001b[0m\u001b[0m\n\u001b[0m\u001b[1;32m    706\u001b[0m         )\n\u001b[1;32m    707\u001b[0m \u001b[0;34m\u001b[0m\u001b[0m\n",
      "\u001b[0;32m/home/adam/.local/lib/python3.5/site-packages/ipykernel/kernelbase.py\u001b[0m in \u001b[0;36m_input_request\u001b[0;34m(self, prompt, ident, parent, password)\u001b[0m\n\u001b[1;32m    733\u001b[0m             \u001b[0;32mexcept\u001b[0m \u001b[0mKeyboardInterrupt\u001b[0m\u001b[0;34m:\u001b[0m\u001b[0;34m\u001b[0m\u001b[0m\n\u001b[1;32m    734\u001b[0m                 \u001b[0;31m# re-raise KeyboardInterrupt, to truncate traceback\u001b[0m\u001b[0;34m\u001b[0m\u001b[0;34m\u001b[0m\u001b[0m\n\u001b[0;32m--> 735\u001b[0;31m                 \u001b[0;32mraise\u001b[0m \u001b[0mKeyboardInterrupt\u001b[0m\u001b[0;34m\u001b[0m\u001b[0m\n\u001b[0m\u001b[1;32m    736\u001b[0m             \u001b[0;32melse\u001b[0m\u001b[0;34m:\u001b[0m\u001b[0;34m\u001b[0m\u001b[0m\n\u001b[1;32m    737\u001b[0m                 \u001b[0;32mbreak\u001b[0m\u001b[0;34m\u001b[0m\u001b[0m\n",
      "\u001b[0;31mKeyboardInterrupt\u001b[0m: "
     ]
    }
   ],
   "source": [
    "import numpy as np\n",
    "from SphereFunctions import combineAreas, combineDiams\n",
    "\n",
    "yvalues = combineAreas(35, baseresult)\n",
    "diams = combineDiams(35, baseresult) - 5/scale\n",
    "yvalues = yvalues - np.mean(yvalues) + np.mean(diams)\n",
    "print(np.mean(diams))\n",
    "print(np.std(diams)/np.sqrt(len(diams)))\n",
    "#print(np.mean(oldyvalues))\n",
    "#print(gp(17.257, 10, .0093))\n",
    "#powers10 = getPowers(yvalues, 10, .0093, \"fernando\")\n",
    "oldxvals = [-40, -100, -130, -170, -230, -235, -250, -400, -400, -500, -510, -510, -540, -570, -570, -590, -600, -630, -640, -710, -730, -750]\n",
    "newxvals = [-510, -180, 150, -260, -510, -640, 70, -90, -670, -690, -670, -460, -460]\n",
    "oldxvalues = np.array(oldxvals)\n",
    "newxvalues = np.array(newxvals)\n",
    "xvalues = np.hstack((oldxvalues,newxvalues))\n",
    "#slope, intercept, r_value, p_value, stderr\n",
    "astats = scipy.stats.linregress(xvalues, yvalues)\n",
    "dstats = scipy.stats.linregress(xvalues, diams)\n",
    "ainterps = xvalues*astats[0]+astats[1]\n",
    "aerror = np.std(yvalues-ainterps)\n",
    "dinterps = xvalues*dstats[0]+dstats[1]\n",
    "derror = np.std(yvalues-dinterps)\n",
    "#print(\"oldslope: \"+str(oldstats[0]))\n",
    "print(\"a slope: \" + str(astats[0]))\n",
    "#print(\"olderror: \"+str(olderror))\n",
    "print(\"a error: \" + str(aerror))\n",
    "plt.plot(xvalues, yvalues, \"ro\")\n",
    "#plt.plot(oldxvalues, oldyvalues, \"go\")\n",
    "#plt.plot(xvalues[26:36], yvalues[26:36], \"co\")\n",
    "plt.plot(xvalues, ainterps)\n",
    "#plt.plot(oldxvalues, oldinterps, \"--c\")\n",
    "plt.errorbar(xvalues, ainterps, yerr=aerror, fmt=\"none\")\n",
    "plt.plot(xvalues, diams, \"bo\")\n",
    "plt.plot(xvalues, dinterps)\n",
    "plt.errorbar(xvalues, dinterps, yerr=derror, fmt=\"none\")\n",
    "plt.show()\n",
    "print(\"d slope: \" + str(dstats[0]))\n",
    "print(\"d error: \" + str(derror))\n",
    "\n",
    "plt.plot(xvalues, yvalues-diams, \"go\")\n",
    "plt.show()\n",
    "dc = np.array(float(input(\"DC Offset: \")))\n",
    "diam = dc*dstats[0]+dstats[1]\n",
    "vol = np.pi/6.0*np.power(diam,3)\n",
    "density = 2.6E-12 # in g/um^3\n",
    "mass = 1.0*vol*density\n",
    "masserror = 3*mass*derror/diam\n",
    "print(\"Mass: \" + str(mass) + \"±\" + str(masserror))"
   ]
  },
  {
   "cell_type": "code",
   "execution_count": 243,
   "metadata": {
    "collapsed": false,
    "deletable": true,
    "editable": true
   },
   "outputs": [],
   "source": [
    "#paths2 = getPaths(2)\n",
    "#image1 = io.imread(paths1[0])\n",
    "#image2 = io.imread(baseimg+\"test.png\")\n",
    "#plt.imshow(image1 - image2)\n",
    "#plt.show()\n",
    "#plt.imshow(image2)\n",
    "#plt.show()"
   ]
  },
  {
   "cell_type": "code",
   "execution_count": 116,
   "metadata": {
    "collapsed": false,
    "deletable": true,
    "editable": true
   },
   "outputs": [],
   "source": [
    "#xs, ys, ps = getValues(\"set 2\", [.62, .67, 20], [1,1.5,20])\n",
    "#pmax = []\n",
    "#for i in range(0,20):\n",
    "#    tempmax = 0\n",
    "#    jmax = 0\n",
    "#    for j in range(0,20):\n",
    "#        if ps[20*i+j] > tempmax:\n",
    "#            tempmax = ps[20*i+j]\n",
    "#            jmax = j\n",
    "#    pstring = str(tempmax) + \" rad = \" + str(i) + \", height = \" + str(jmax)\n",
    "#    pmax = np.append(pmax, pstring)\n",
    "#print(pmax)\n",
    "#fig = plt.figure()\n",
    "#ax = fig.add_subplot(111, projection='3d')\n",
    "#ax.scatter(xs, ys, ps)\n",
    "#ax.set_xlabel(\"radial factor\")\n",
    "#ax.set_ylabel(\"height factor\")\n",
    "#plt.show()\n",
    "#ind = np.where(np.equal(ps,np.amax(ps)))\n",
    "#print(ps[ind])\n",
    "#print(ps)\n",
    "#print(scalevals[ind])\n",
    "    "
   ]
  },
  {
   "cell_type": "code",
   "execution_count": 135,
   "metadata": {
    "collapsed": false,
    "deletable": true,
    "editable": true,
    "scrolled": true
   },
   "outputs": [
    {
     "name": "stdout",
     "output_type": "stream",
     "text": [
      "n = 1322\n",
      "mean = 14.6942538905\n",
      "std = 2.67865858161\n"
     ]
    },
    {
     "data": {
      "image/png": "[encoded data removed]",
      "text/plain": [
       "<matplotlib.figure.Figure at 0x7fd1b6cc0da0>"
      ]
     },
     "metadata": {},
     "output_type": "display_data"
    }
   ],
   "source": [
    "num = np.loadtxt(\"/home/adam/Optlev/SDP/results/set 2/full825.txt\")\n",
    "#num = combineFiles(6,\"35um\")\n",
    "#num = num\n",
    "print(\"n = \" + str(num.shape[0]))\n",
    "print(\"mean = \" + str(np.mean(num)))\n",
    "print(\"std = \" + str(np.std(num)))\n",
    "n, bins = np.histogram(num, bins=\"auto\")\n",
    "plt.plot(bins[:-1], n)\n",
    "plt.show()\n",
    "#powervalues = getPowers(num, 50, .0093, \"set 2\")\n",
    "#powervalues = num ** 3\n",
    "#print(\"n = \" + str(powervalues.shape[0]))\n",
    "#print(\"mean = \" + str(np.mean(powervalues)))\n",
    "#print(\"std = \" + str(np.std(powervalues)))\n",
    "#n2, bins2, patches2 = plt.hist(powervalues, 12, range=(np.amin(powervalues),np.amax(powervalues)), normed=0)\n",
    "#plt.show()\n",
    "\n",
    "#DC = [-540, -620, 20, 80, -620, 420, -670, -620, -25, -440, -510, -840, -180, -90, -500, -660, -340, 70, -500, -730, -400, -100, -285, -230, -510, -880, -90, -170, -600, -40, -240, -570, -110, -400, -250, -750, -760, -130, -590, -540, -400, -570, -235, -710, -640, -590, -510]\n",
    "#power = 7.36428571e-02*np.array(DC) + 1.02128571e+02\n",
    "#print(\"n = \" + str(power.shape[0]))\n",
    "#print(\"mean = \" + str(np.mean(power)))\n",
    "#print(\"std = \" + str(np.std(power)))\n",
    "#n3, bins3, patches3 = plt.hist(power, 12, range=(np.amin(power), np.amax(power)), normed=0)\n",
    "#plt.show()"
   ]
  },
  {
   "cell_type": "code",
   "execution_count": 15,
   "metadata": {
    "collapsed": false,
    "deletable": true,
    "editable": true
   },
   "outputs": [
    {
     "data": {
      "text/plain": [
       "<matplotlib.text.Text at 0x7fd1b6d17b70>"
      ]
     },
     "execution_count": 15,
     "metadata": {},
     "output_type": "execute_result"
    }
   ],
   "source": [
    "#n2norm = 47/1322 * n2\n",
    "#plt.plot(bins2[1:], n2norm)\n",
    "#plt.show()\n",
    "#scipy.stats.chisquare(n3, n2norm)\n",
    "\n",
    "ampscale = np.linspace(12,20,20)\n",
    "lengthscale = np.linspace(25,50,10)\n",
    "x2 = []\n",
    "p = []\n",
    "x = []\n",
    "y = []\n",
    "nf, binsf = np.histogram(power, 12)\n",
    "powervalues = num ** 3\n",
    "na, binsa = np.histogram(powervalues, 50)\n",
    "smoothedpower = scipy.signal.savgol_filter(na,5,3)\n",
    "powerinterp = interp1d(binsa[:-1], smoothedpower, bounds_error = False, fill_value=(0.001,0.001))\n",
    "for i in range(0, len(ampscale)):\n",
    "    for j in range(0, len(lengthscale)):\n",
    "        nfsim = powerinterp(lengthscale[j]*binsf[:-1])/ampscale[i]\n",
    "        x2temp, ptemp = scipy.stats.chisquare(nf, nfsim)\n",
    "        x2 = np.append(x2, x2temp)\n",
    "        p = np.append(p, ptemp)\n",
    "        x = np.append(x, ampscale[i])\n",
    "        y = np.append(y, lengthscale[j])\n",
    "\n",
    "#plt.plot(binsa[:-1], smoothedpower)\n",
    "#plt.show()\n",
    "#plt.plot(binsf[:-1], nf)\n",
    "#plt.plot(binsf[:-1], powerinterp(binsf[:-1]*49)/16)\n",
    "#plt.show()\n",
    "#fig = plt.figure()\n",
    "#ax = fig.add_subplot(111, projection='3d')\n",
    "#ax.scatter(x, y, x2)\n",
    "#ax.set_xlabel(\"amp factor\")\n",
    "#ax.set_ylabel(\"length factor\")\n",
    "#plt.show()\n",
    "#fig = plt.figure()\n",
    "#ax = fig.add_subplot(111, projection='3d')\n",
    "#ax.scatter(x, y, p)\n",
    "#ax.set_xlabel(\"amp factor\")\n",
    "#ax.set_ylabel(\"length factor\")\n",
    "#plt.show()\n",
    "#plt.plot(binsf[:-1], nf)\n",
    "#plt.show()\n",
    "#print(x2)\n",
    "#print(p)\n",
    "#plt.plot(scale, x2)\n",
    "#plt.plot(scale, p)\n",
    "#plt.show()"
   ]
  },
  {
   "cell_type": "code",
   "execution_count": 69,
   "metadata": {
    "collapsed": false,
    "deletable": true,
    "editable": true
   },
   "outputs": [
    {
     "data": {
      "text/plain": [
       "[<matplotlib.lines.Line2D at 0x7fd1b69cb748>]"
      ]
     },
     "execution_count": 69,
     "metadata": {},
     "output_type": "execute_result"
    }
   ],
   "source": [
    "#values = powerinterp(binsf[:-1]*50)/16\n",
    "#poissonvalues = np.exp(-values)*(values**nf)/(scipy.misc.factorial(nf))\n",
    "def edgeBins(bins):\n",
    "    binspace = bins[1] - bins[0]\n",
    "    prebins = [bins[0]-binspace, bins[0]-binspace/2]\n",
    "    postbins = [bins[-1]+binspace, bins[-1]+2*binspace]\n",
    "    bins_edged = np.hstack((np.hstack((prebins, bins)), postbins))\n",
    "    return bins_edged\n",
    "\n",
    "def edgeNums(nums):\n",
    "    prenums = [0,0]\n",
    "    postnums = [0,0]\n",
    "    nums_edged = np.hstack((np.hstack((prenums, nums)), postnums))\n",
    "    return nums_edged\n",
    "\n",
    "def func(scales):\n",
    "    values = powerinterp(binse_edged[:-1]*scales[0]-scales[1])/scales[2]\n",
    "    poissonvalues = np.exp(-values)*(values**ne_edged)/(scipy.misc.factorial(ne_edged))\n",
    "    return -np.sum(np.log(poissonvalues))\n",
    "\n",
    "nf, binsf = np.histogram(power, 12)\n",
    "powervalues = num ** 3\n",
    "na, binsa = np.histogram(powervalues, 50)\n",
    "binsa_edged = edgeBins(binsa)\n",
    "binsf_edged = edgeBins(binsf)\n",
    "na_edged = edgeNums(na)\n",
    "nf_edged = edgeNums(nf)\n",
    "smoothedpower = scipy.signal.savgol_filter(na_edged,5,3)\n",
    "powerinterp = interp1d(binsa_edged[:-1], smoothedpower, bounds_error = False, fill_value=(0.001,0.001))\n",
    "plt.plot(binsa_edged[:-1], smoothedpower)\n",
    "#plt.show()"
   ]
  },
  {
   "cell_type": "code",
   "execution_count": 88,
   "metadata": {
    "collapsed": false,
    "deletable": true,
    "editable": true
   },
   "outputs": [
    {
     "name": "stdout",
     "output_type": "stream",
     "text": [
      "[  2.30324998  19.21238257  15.76226589]\n",
      "16.4214337947\n"
     ]
    },
    {
     "data": {
      "image/png": "[encoded data removed]",
      "text/plain": [
       "<matplotlib.figure.Figure at 0x7fd1b783d080>"
      ]
     },
     "metadata": {},
     "output_type": "display_data"
    },
    {
     "data": {
      "image/png": "[encoded data removed]",
      "text/plain": [
       "<matplotlib.figure.Figure at 0x7fd1b6bac1d0>"
      ]
     },
     "metadata": {},
     "output_type": "display_data"
    },
    {
     "name": "stdout",
     "output_type": "stream",
     "text": [
      "15.560963348\n"
     ]
    }
   ],
   "source": [
    "evalues = combineData(30, \"fernando\")\n",
    "values = np.loadtxt(\"/home/adam/Optlev/SDP/results/set 2/full.txt\")\n",
    "tvalues = eliminateValues(values, 8, 25, \"set 2\")\n",
    "ne, binse = np.histogram(evalues, bins=\"auto\")\n",
    "nt, binst = np.histogram(tvalues, bins=\"auto\")\n",
    "binse_edged = edgeBins(binse)\n",
    "binst_edged = edgeBins(binst)\n",
    "ne_edged = edgeNums(ne)\n",
    "nt_edged = edgeNums(nt)\n",
    "powerinterp = interp1d(binst_edged[:-1], nt_edged, bounds_error = False, fill_value=(0.001,0.001))\n",
    "bounds = ((0,5), (None, None), (10,20))\n",
    "result = scipy.optimize.minimize(func, (2.5,24,15), method= \"TNC\", bounds = bounds, options={\"maxiter\":100})\n",
    "resvals = result.get(\"x\")\n",
    "resfunc = result.get(\"fun\")\n",
    "print(resvals)\n",
    "print(resfunc)\n",
    "plt.plot(binse_edged[:-1], ne_edged)\n",
    "plt.plot(binse_edged[:-1], powerinterp(binse_edged[:-1]*resvals[0]-resvals[1])/resvals[2])\n",
    "plt.show()\n",
    "#plt.plot(binse_edged[:-1], ne_edged)\n",
    "#plt.plot(binse_edged[:-1], powerinterp(binse_edged[:-1]*2.5-23)/14)\n",
    "#plt.show()\n",
    "print(np.mean(evalues)*resvals[0]-resvals[1])"
   ]
  },
  {
   "cell_type": "code",
   "execution_count": null,
   "metadata": {
    "collapsed": false,
    "deletable": true,
    "editable": true
   },
   "outputs": [],
   "source": [
    "#adam_pts, fernando_pts, x_pts = zip(*((x, y, z) for x, y, z in zip(adam_pts, fernando_pts, x_pts) if ((x != 0.0) and (y != 'nan'))))"
   ]
  },
  {
   "cell_type": "code",
   "execution_count": 90,
   "metadata": {
    "collapsed": false,
    "deletable": true,
    "editable": true
   },
   "outputs": [
    {
     "data": {
      "image/png": "[encoded data removed]",
      "text/plain": [
       "<matplotlib.figure.Figure at 0x7fd1b76cdda0>"
      ]
     },
     "metadata": {},
     "output_type": "display_data"
    }
   ],
   "source": [
    "plt.plot(xvalues, yvalues, \"b.\")\n",
    "plt.plot(xvalues, combineData(30, \"fernando\"), \"g.\")\n",
    "plt.show()"
   ]
  },
  {
   "cell_type": "code",
   "execution_count": null,
   "metadata": {
    "collapsed": false,
    "deletable": true,
    "editable": true
   },
   "outputs": [],
   "source": [
    "import numpy as np\n",
    "import matplotlib.pyplot as plt\n",
    "\n",
    "def loadcol(colnum, num=1):\n",
    "    return np.loadtxt(\"/home/adam/Downloads/dist=\"+str(num)+\".txt\", skiprows=8, usecols=(colnum,))\n",
    "xdata = loadcol(0,2)\n",
    "ydata = loadcol(1,2)\n",
    "plt.plot(xdata, ydata, \"ro\")\n",
    "#plt.show()"
   ]
  }
 ],
 "metadata": {
  "kernelspec": {
   "display_name": "Python 3",
   "language": "python",
   "name": "python3"
  },
  "language_info": {
   "codemirror_mode": {
    "name": "ipython",
    "version": 3
   },
   "file_extension": ".py",
   "mimetype": "text/x-python",
   "name": "python",
   "nbconvert_exporter": "python",
   "pygments_lexer": "ipython3",
   "version": "3.5.2"
  }
 },
 "nbformat": 4,
 "nbformat_minor": 2
}
