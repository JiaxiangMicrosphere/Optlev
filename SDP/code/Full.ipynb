{
 "cells": [
  {
   "cell_type": "code",
   "execution_count": 2,
   "metadata": {
    "collapsed": false,
    "deletable": true,
    "editable": true,
    "scrolled": true
   },
   "outputs": [],
   "source": [
    "import skimage\n",
    "import scipy\n",
    "from scipy import ndimage\n",
    "from skimage import io, segmentation, morphology, measure\n",
    "from skimage import color, data, img_as_float\n",
    "from matplotlib import pyplot as plt\n",
    "import numpy as np\n",
    "\n",
    "fors = \"fernando/\"\n",
    "baseimg = \"/home/adam/Sphere diameter project/images/\" + fors\n",
    "basedata = \"/home/adam/Sphere diameter project/data/\" + fors\n",
    "baseresult = \"/home/adam/Sphere diameter project/results/\" + fors\n",
    "\n",
    "def getPaths(num):\n",
    "    pngpath = baseimg + str(num) + \".png\"\n",
    "    npypath = basedata + str(num) + \".npy\"\n",
    "    txtpath = baseresult + str(num) + \".txt\"\n",
    "    respath = baseresult + str(num) + \".png\"\n",
    "    ovpath = baseresult + str(num) + \"ov.png\"\n",
    "    return pngpath, npypath, txtpath, respath, ovpath\n",
    "\n",
    "def getFiles(num):\n",
    "    pngpath, npypath, txtpath, respath, ovpath = getPaths(num)\n",
    "    image = io.imread(pngpath)\n",
    "    y, x = np.load(npypath).T\n",
    "    markers = np.zeros(image.shape, dtype=np.int)\n",
    "    markers[x.astype(np.int), y.astype(np.int)] = np.arange(len(x))+1\n",
    "    #markers = morphology.dilation(markers, morphology.disk(15))\n",
    "    rw = segmentation.random_walker(image, markers, beta=400000)\n",
    "    properties = measure.regionprops(rw)\n",
    "    areas = np.zeros(len(x))\n",
    "    for i in range(0,len(x)):\n",
    "        areas[i] = properties[i].area\n",
    "    diameters = 2*np.sqrt(areas/np.pi)/6.2\n",
    "    #6.2 pixels per micron at this scale\n",
    "    rwSphere = getSphere(rw)\n",
    "    ov = overlaySeg(image, rwSphere)\n",
    "    np.savetxt(txtpath, diameters, fmt=\"%1.8f\")\n",
    "    scipy.misc.imsave(respath, rw)\n",
    "    scipy.misc.imsave(ovpath, ov)\n",
    "    #return(rw, image)\n",
    "\n",
    "def overlaySeg(image, rw):\n",
    "    rows, cols = image.shape\n",
    "    rw_blank = np.zeros(rw.shape)\n",
    "    # Construct RGB version of grey-level image\n",
    "    image_color = np.dstack((image, image, image))\n",
    "    rw_color = np.dstack((rw*127, rw_blank , rw_blank))\n",
    "\n",
    "    # Convert the input image and color mask to Hue Saturation Value (HSV)\n",
    "    # colorspace\n",
    "    img_hsv = color.rgb2hsv(image_color)\n",
    "    rw_hsv = color.rgb2hsv(rw_color)\n",
    "\n",
    "    # Replace the hue and saturation of the original image\n",
    "    # with that of the color mask\n",
    "    img_hsv[..., 0] = rw_hsv[..., 0]\n",
    "    img_hsv[..., 1] = rw_hsv[..., 1]\n",
    "\n",
    "    ov = color.hsv2rgb(img_hsv)\n",
    "    return ov\n",
    "\n",
    "#f, axarr = plt.subplots(2, 2)\n",
    "#axarr[0, 0].imshow(rw)\n",
    "#axarr[0, 1].imshow(image, cmap=\"gray\")\n",
    "#axarr[1, 0].imshow(markers)\n",
    "#axarr[1, 1].imshow(watershed, cmap=\"gray\")\n",
    "# Fine-tune figure; hide x ticks for top plots and y ticks for right plots\n",
    "#plt.setp([a.get_xticklabels() for a in axarr[0, :]], visible=False)\n",
    "#plt.setp([a.get_yticklabels() for a in axarr[:, 1]], visible=False)\n",
    "\n",
    "def plotImages(rw, image):\n",
    "    plt.imshow(rw)\n",
    "    plt.show()\n",
    "    plt.imshow(image, cmap=\"gray\")\n",
    "    plt.show()\n",
    "    \n",
    "def getSphere(rw):\n",
    "    for x in np.nditer(rw, op_flags=['readwrite']):\n",
    "        if x > 1:\n",
    "            x[...] = 0\n",
    "    return(rw)"
   ]
  },
  {
   "cell_type": "code",
   "execution_count": 103,
   "metadata": {
    "collapsed": false,
    "deletable": true,
    "editable": true
   },
   "outputs": [
    {
     "name": "stdout",
     "output_type": "stream",
     "text": [
      "19/22 done\n",
      "20/22 done\n",
      "21/22 done\n",
      "22/22 done\n"
     ]
    }
   ],
   "source": [
    "for i in range(19,23):\n",
    "    getFiles(i)\n",
    "    print(str(i) + \"/22 done\")"
   ]
  },
  {
   "cell_type": "code",
   "execution_count": 85,
   "metadata": {
    "collapsed": false,
    "deletable": true,
    "editable": true
   },
   "outputs": [],
   "source": [
    "rw = getSphere(rw)\n",
    "scipy.misc.imsave(getPaths(1)[4], overlaySeg(image,rw))"
   ]
  },
  {
   "cell_type": "code",
   "execution_count": 188,
   "metadata": {
    "collapsed": false,
    "deletable": true,
    "editable": true
   },
   "outputs": [],
   "source": [
    "#paths2 = getPaths(2)\n",
    "#image1 = io.imread(paths1[0])\n",
    "#image2 = io.imread(baseimg+\"test.png\")\n",
    "#plt.imshow(image1 - image2)\n",
    "#plt.show()\n",
    "#plt.imshow(image2)\n",
    "#plt.show()"
   ]
  },
  {
   "cell_type": "code",
   "execution_count": 193,
   "metadata": {
    "collapsed": false,
    "deletable": true,
    "editable": true,
    "scrolled": true
   },
   "outputs": [],
   "source": [
    "import numpy as np\n",
    "import matplotlib.mlab as mlab\n",
    "import matplotlib.pyplot as plt\n",
    "from EquilibriumValuesFromSphereDiameter import getPowerFromSphereSize as gp\n",
    "from mpl_toolkits.mplot3d import Axes3D\n",
    "from scipy.interpolate import interp1d\n",
    "\n",
    "# the histogram of the data\n",
    "#n, bins, patches = plt.hist(x, 50, normed=1, facecolor='green', alpha=0.75)\n",
    "\n",
    "# add a 'best fit' line\n",
    "#y = mlab.normpdf( bins, mu, sigma)\n",
    "#l = plt.plot(bins, y, 'r--', linewidth=1)\n",
    "\n",
    "#plt.axis([40, 160, 0, 0.03])\n",
    "#plt.grid(True)\n",
    "#plt.show()\n",
    "\n",
    "def getPath(forset):\n",
    "    outPath = \"/home/adam/Sphere diameter project/results/\" + forset + \"/\"\n",
    "    return outPath\n",
    "    \n",
    "    \n",
    "def eliminateValues(values, lower, upper, forset):\n",
    "    index = []\n",
    "    for i in range(0, values.shape[0]):\n",
    "        if (values[i] > upper or values[i] < lower):\n",
    "            index = np.append(index, i)\n",
    "    cutvalues = np.delete(values, index)      \n",
    "    #np.savetxt(outpath(forset) + str(lower) + str(upper) + \".txt\", cutvalues, fmt=\"%1.8f\")\n",
    "    return(cutvalues)\n",
    "\n",
    "def getPowers(values, eqpos, na, forset):\n",
    "    powers = np.zeros(values.shape[0])\n",
    "    for i in range(0, values.shape[0]):\n",
    "        powers[i] = gp(values[i], eqpos, na)\n",
    "    #np.savetxt(getPath(forset)+\"spheres power data \" + str(eqpos) + \".txt\", powers, fmt=\"%1.8f\")\n",
    "    return(powers)\n",
    "\n",
    "def combineFiles(num, forset):\n",
    "    values = []\n",
    "    for i in range(1, num+1):\n",
    "        values = np.concatenate((values, np.loadtxt(getPath(forset) + str(i) + \".txt\")))\n",
    "    #np.savetxt(getPath(forset)+\"full.txt\", values, fmt=\"%1.8f\")\n",
    "    return values\n",
    "\n",
    "def combineData(num, forset):\n",
    "    values = []\n",
    "    for i in range(1, num+1):\n",
    "        values = np.append(values, np.loadtxt(getPath(forset) + str(i) + \".txt\")[0])\n",
    "    #np.savetxt(getPath(forset) + \"full.txt\", values, fmt=\"%1.8f\")\n",
    "    return values\n",
    "\n",
    "def getKSradialscale(scale, theory, real):\n",
    "    powertheory = getPowers(theory*scale, 50, .0093, \"set 2\")\n",
    "    #print(str(np.median(powertheory)) + \" - \" + str(scale))\n",
    "    d, p = scipy.stats.ks_2samp(powertheory, real)\n",
    "    return d, p\n",
    "\n",
    "def getKSheightscale(scale, theory, real):\n",
    "    powertheory = getPowers(theory, 50*scale, .0093, \"set 2\")\n",
    "    #print(str(np.median(powertheory)) + \" - \" + str(scale))\n",
    "    d, p = scipy.stats.ks_2samp(powertheory, real)\n",
    "    return d, p\n",
    "\n",
    "def getKSNAscale(scale, theory, real):\n",
    "    powertheory = getPowers(theory, 50, .0093*scale, \"set 2\")\n",
    "    #print(str(np.median(powertheory)) + \" - \" + str(scale))\n",
    "    d, p = scipy.stats.ks_2samp(powertheory, real)\n",
    "    return d, p\n",
    "\n",
    "def getKSbothscale(radscale, heightscale, theory, real):\n",
    "    powertheory = getPowers(radscale*theory, heightscale*50, .0093, \"set 2\")\n",
    "    #print(str(np.median(powertheory)) + \" - \" + str(scale))\n",
    "    d, p = scipy.stats.ks_2samp(powertheory, real)\n",
    "    return d, p\n",
    "\n",
    "def getX2bothscale(radscale, heightscale, theory, real):\n",
    "    powertheory = getPowers(radscale*theory, heightscale*50, .0093, \"set 2\")\n",
    "    #print(str(np.median(powertheory)) + \" - \" + str(scale))\n",
    "    d, p = scipy.stats.chisquare(real, powertheory)\n",
    "    return d, p\n",
    "\n",
    "def getValues(forset, radtuple, heighttuple):\n",
    "    radialscalevals = np.linspace(radtuple[0], radtuple[1], radtuple[2])\n",
    "    heightscalevals = np.linspace(heighttuple[0], heighttuple[1], heighttuple[2])\n",
    "    values = np.loadtxt(getPath(forset)+\"full.txt\")\n",
    "    num = eliminateValues(values, 8, 25, forset)\n",
    "    DC = [-540, -620, 20, 80, -620, 420, -670, -620, -25, -440, -510, -840, -180, -90, -500, -660, -340, 70, -500, -730, -400, -100, -285, -230, -510, -880, -90, -170, -600, -40, -240, -570, -110, -400, -250, -750, -760, -130, -590, -540, -400, -570, -235, -710, -640, -590, -510]\n",
    "    power = 7.36428571e-02*np.array(DC) + 1.02128571e+02\n",
    "    #print(np.median(power))\n",
    "    #ds = []\n",
    "    ps = []\n",
    "    xs = []\n",
    "    ys = []\n",
    "    for i in range(0,radtuple[2]):\n",
    "        for j in range(0,heighttuple[2]):\n",
    "            dtemp, ptemp = getX2bothscale(radialscalevals[i], heightscalevals[j], num, power)\n",
    "            #ds = np.append(ds, dtemp)\n",
    "            ps = np.append(ps, ptemp)\n",
    "            xs = np.append(xs, radialscalevals[i])\n",
    "            ys = np.append(ys, heightscalevals[j])\n",
    "    return xs, ys, ps"
   ]
  },
  {
   "cell_type": "code",
   "execution_count": 190,
   "metadata": {
    "collapsed": false,
    "deletable": true,
    "editable": true
   },
   "outputs": [],
   "source": [
    "#xs, ys, ps = getValues(\"set 2\", [.62, .67, 20], [1,1.5,20])\n",
    "#pmax = []\n",
    "#for i in range(0,20):\n",
    "#    tempmax = 0\n",
    "#    jmax = 0\n",
    "#    for j in range(0,20):\n",
    "#        if ps[20*i+j] > tempmax:\n",
    "#            tempmax = ps[20*i+j]\n",
    "#            jmax = j\n",
    "#    pstring = str(tempmax) + \" rad = \" + str(i) + \", height = \" + str(jmax)\n",
    "#    pmax = np.append(pmax, pstring)\n",
    "#print(pmax)\n",
    "#fig = plt.figure()\n",
    "#ax = fig.add_subplot(111, projection='3d')\n",
    "#ax.scatter(xs, ys, ps)\n",
    "#ax.set_xlabel(\"radial factor\")\n",
    "#ax.set_ylabel(\"height factor\")\n",
    "#plt.show()\n",
    "#ind = np.where(np.equal(ps,np.amax(ps)))\n",
    "#print(ps[ind])\n",
    "#print(ps)\n",
    "#print(scalevals[ind])\n",
    "    "
   ]
  },
  {
   "cell_type": "code",
   "execution_count": 87,
   "metadata": {
    "collapsed": false,
    "deletable": true,
    "editable": true
   },
   "outputs": [
    {
     "name": "stdout",
     "output_type": "stream",
     "text": [
      "n = 1322\n",
      "mean = 3497.80594377\n",
      "std = 1996.57829934\n",
      "n = 47\n",
      "mean = 72.9926363665\n",
      "std = 20.7251621255\n"
     ]
    }
   ],
   "source": [
    "values = np.loadtxt(\"/home/adam/Sphere diameter project/results/set 2/full.txt\")\n",
    "#values = combineFiles(42,\"set 2\")\n",
    "num = eliminateValues(values, 8, 25, \"set 2\")\n",
    "num = num\n",
    "#print(\"n = \" + str(num.shape[0]))\n",
    "#print(\"mean = \" + str(np.mean(num)))\n",
    "#print(\"std = \" + str(np.std(num)))\n",
    "#n, bins, patches = plt.hist(values, 25, range=(8,25), normed=0)\n",
    "#plt.show()\n",
    "#powervalues = getPowers(num, 50, .0093, \"set 2\")\n",
    "powervalues = num ** 3\n",
    "print(\"n = \" + str(powervalues.shape[0]))\n",
    "print(\"mean = \" + str(np.mean(powervalues)))\n",
    "print(\"std = \" + str(np.std(powervalues)))\n",
    "n2, bins2, patches2 = plt.hist(powervalues, 12, range=(np.amin(powervalues),np.amax(powervalues)), normed=0)\n",
    "#plt.show()\n",
    "\n",
    "DC = [-540, -620, 20, 80, -620, 420, -670, -620, -25, -440, -510, -840, -180, -90, -500, -660, -340, 70, -500, -730, -400, -100, -285, -230, -510, -880, -90, -170, -600, -40, -240, -570, -110, -400, -250, -750, -760, -130, -590, -540, -400, -570, -235, -710, -640, -590, -510]\n",
    "power = 7.36428571e-02*np.array(DC) + 1.02128571e+02\n",
    "print(\"n = \" + str(power.shape[0]))\n",
    "print(\"mean = \" + str(np.mean(power)))\n",
    "print(\"std = \" + str(np.std(power)))\n",
    "n3, bins3, patches3 = plt.hist(power, 12, range=(np.amin(power), np.amax(power)), normed=0)\n",
    "#plt.show()"
   ]
  },
  {
   "cell_type": "code",
   "execution_count": 86,
   "metadata": {
    "collapsed": false,
    "deletable": true,
    "editable": true
   },
   "outputs": [
    {
     "data": {
      "text/plain": [
       "<matplotlib.text.Text at 0x7fe89d2717f0>"
      ]
     },
     "execution_count": 86,
     "metadata": {},
     "output_type": "execute_result"
    }
   ],
   "source": [
    "#n2norm = 47/1322 * n2\n",
    "#plt.plot(bins2[1:], n2norm)\n",
    "#plt.show()\n",
    "#scipy.stats.chisquare(n3, n2norm)\n",
    "\n",
    "ampscale = np.linspace(12,20,20)\n",
    "lengthscale = np.linspace(25,50,10)\n",
    "x2 = []\n",
    "p = []\n",
    "x = []\n",
    "y = []\n",
    "nf, binsf = np.histogram(power, 12)\n",
    "powervalues = num ** 3\n",
    "na, binsa = np.histogram(powervalues, 50)\n",
    "smoothedpower = scipy.signal.savgol_filter(na,5,3)\n",
    "powerinterp = interp1d(binsa[:-1], smoothedpower, bounds_error = False, fill_value=(0.001,0.001))\n",
    "for i in range(0, len(ampscale)):\n",
    "    for j in range(0, len(lengthscale)):\n",
    "        nfsim = powerinterp(lengthscale[j]*binsf[:-1])/ampscale[i]\n",
    "        x2temp, ptemp = scipy.stats.chisquare(nf, nfsim)\n",
    "        x2 = np.append(x2, x2temp)\n",
    "        p = np.append(p, ptemp)\n",
    "        x = np.append(x, ampscale[i])\n",
    "        y = np.append(y, lengthscale[j])\n",
    "\n",
    "plt.plot(binsa[:-1], smoothedpower)\n",
    "#plt.show()\n",
    "plt.plot(binsf[:-1], nf)\n",
    "plt.plot(binsf[:-1], powerinterp(binsf[:-1]*49)/16)\n",
    "#plt.show()\n",
    "fig = plt.figure()\n",
    "ax = fig.add_subplot(111, projection='3d')\n",
    "ax.scatter(x, y, x2)\n",
    "ax.set_xlabel(\"amp factor\")\n",
    "ax.set_ylabel(\"length factor\")\n",
    "#plt.show()\n",
    "fig = plt.figure()\n",
    "ax = fig.add_subplot(111, projection='3d')\n",
    "ax.scatter(x, y, p)\n",
    "ax.set_xlabel(\"amp factor\")\n",
    "ax.set_ylabel(\"length factor\")\n",
    "#plt.show()\n",
    "#plt.plot(binsf[:-1], nf)\n",
    "#plt.show()\n",
    "#print(x2)\n",
    "#print(p)\n",
    "#plt.plot(scale, x2)\n",
    "#plt.plot(scale, p)\n",
    "#plt.show()"
   ]
  },
  {
   "cell_type": "code",
   "execution_count": 211,
   "metadata": {
    "collapsed": false,
    "deletable": true,
    "editable": true
   },
   "outputs": [
    {
     "data": {
      "text/plain": [
       "[<matplotlib.lines.Line2D at 0x7fe89d2d4ba8>]"
      ]
     },
     "execution_count": 211,
     "metadata": {},
     "output_type": "execute_result"
    }
   ],
   "source": [
    "#values = powerinterp(binsf[:-1]*50)/16\n",
    "#poissonvalues = np.exp(-values)*(values**nf)/(scipy.misc.factorial(nf))\n",
    "def edgeBins(bins):\n",
    "    binspace = bins[1] - bins[0]\n",
    "    prebins = [bins[0]-binspace, bins[0]-binspace/2]\n",
    "    postbins = [bins[-1]+binspace, bins[-1]+2*binspace]\n",
    "    bins_edged = np.hstack((np.hstack((prebins, bins)), postbins))\n",
    "    return bins_edged\n",
    "\n",
    "def edgeNums(nums):\n",
    "    prenums = [0,0]\n",
    "    postnums = [0,0]\n",
    "    nums_edged = np.hstack((np.hstack((prenums, nums)), postnums))\n",
    "    return nums_edged\n",
    "\n",
    "def func(scales):\n",
    "    values = powerinterp(binsf_edged[:-1]*scales[0]-scales[1])/scales[2]\n",
    "    poissonvalues = np.exp(-values)*(values**nf_edged)/(scipy.misc.factorial(nf_edged))\n",
    "    return -np.sum(np.log(poissonvalues))\n",
    "\n",
    "nf, binsf = np.histogram(power, 12)\n",
    "powervalues = num ** 3\n",
    "na, binsa = np.histogram(powervalues, 50)\n",
    "binsa_edged = edgeBins(binsa)\n",
    "binsf_edged = edgeBins(binsf)\n",
    "na_edged = edgeNums(na)\n",
    "nf_edged = edgeNums(nf)\n",
    "smoothedpower = scipy.signal.savgol_filter(na_edged,5,3)\n",
    "powerinterp = interp1d(binsa_edged[:-1], smoothedpower, bounds_error = False, fill_value=(0.001,0.001))\n",
    "plt.plot(binsa_edged[:-1], smoothedpower)\n",
    "#plt.show()"
   ]
  },
  {
   "cell_type": "code",
   "execution_count": 217,
   "metadata": {
    "collapsed": false,
    "deletable": true,
    "editable": true
   },
   "outputs": [
    {
     "name": "stdout",
     "output_type": "stream",
     "text": [
      "[   75.34081708  2141.45989484    13.50462907]\n",
      "5.82489783586e-10\n"
     ]
    },
    {
     "data": {
      "image/png": "[encoded data removed]",
      "text/plain": [
       "<matplotlib.figure.Figure at 0x7fe89d05ba20>"
      ]
     },
     "metadata": {},
     "output_type": "display_data"
    },
    {
     "data": {
      "image/png": "[encoded data removed]",
      "text/plain": [
       "<matplotlib.figure.Figure at 0x7fe89d1871d0>"
      ]
     },
     "metadata": {},
     "output_type": "display_data"
    }
   ],
   "source": [
    "bounds = ((None,None), (None,None), (None,None))\n",
    "result = scipy.optimize.minimize(func, (50,1000,15), method= \"TNC\", bounds=bounds, options={\"maxiter\":1000})\n",
    "resvals = result.get(\"x\")\n",
    "resfunc = result.get(\"fun\")\n",
    "print(resvals)\n",
    "print(np.exp(-resfunc))\n",
    "plt.plot(binsf_edged[:-1], nf_edged)\n",
    "plt.plot(binsf_edged[:-1], powerinterp(binsf_edged[:-1]*resvals[0]-resvals[1])/resvals[2])\n",
    "plt.show()\n",
    "plt.plot(binsf_edged[:-1], nf_edged)\n",
    "plt.plot(binsf_edged[:-1], powerinterp(binsf_edged[:-1]*100-3000)/10)\n",
    "plt.show()"
   ]
  },
  {
   "cell_type": "code",
   "execution_count": 218,
   "metadata": {
    "collapsed": false,
    "deletable": true,
    "editable": true
   },
   "outputs": [],
   "source": [
    "#adam_pts, fernando_pts, x_pts = zip(*((x, y, z) for x, y, z in zip(adam_pts, fernando_pts, x_pts) if ((x != 0.0) and (y != 'nan'))))"
   ]
  },
  {
   "cell_type": "code",
   "execution_count": 234,
   "metadata": {
    "collapsed": false,
    "deletable": true,
    "editable": true,
    "scrolled": false
   },
   "outputs": [
    {
     "name": "stdout",
     "output_type": "stream",
     "text": [
      "oldslope: 0.00466821619201\n",
      "slope: 0.00477066993669\n",
      "olderror: 0.699778660495\n",
      "error: 0.652960187031\n"
     ]
    },
    {
     "data": {
      "image/png": "[encoded data removed]",
      "text/plain": [
       "<matplotlib.figure.Figure at 0x7fe89cf0b3c8>"
      ]
     },
     "metadata": {},
     "output_type": "display_data"
    },
    {
     "name": "stdout",
     "output_type": "stream",
     "text": [
      "DC Offset: -300\n",
      "15.5666610303\n",
      "5.13521198263e-09\n",
      "Mass: 5.13521198263e-09±6.46205818339e-10\n"
     ]
    }
   ],
   "source": [
    "yvalues = combineData(30, \"fernando\")\n",
    "oldyvalues = combineData(22, \"fernando\")\n",
    "#print(gp(17.257, 10, .0093))\n",
    "#powers10 = getPowers(yvalues, 10, .0093, \"fernando\")\n",
    "oldxvals = [-40, -100, -130, -170, -230, -235, -250, -400, -400, -500, -510, -510, -540, -570, -570, -590, -600, -630, -640, -710, -730, -750]\n",
    "newxvals = [-510, -180, 150, -260, -510, -640, 70, -90]\n",
    "oldxvalues = np.array(oldxvals)\n",
    "newxvalues = np.array(newxvals)\n",
    "xvalues = np.hstack((oldxvalues,newxvalues))\n",
    "#slope, intercept, r_value, p_value, stderr\n",
    "stats = scipy.stats.linregress(xvalues, yvalues)\n",
    "oldstats = scipy.stats.linregress(oldxvalues, oldyvalues)\n",
    "interps = xvalues*stats[0]+stats[1]\n",
    "oldinterps = oldxvalues*oldstats[0]+oldstats[1]\n",
    "error = np.std(yvalues-interps)\n",
    "olderror = np.std(oldyvalues-oldinterps)\n",
    "print(\"oldslope: \"+str(scipy.stats.linregress(oldxvalues, oldyvalues)[0]))\n",
    "print(\"slope: \" + str(slope))\n",
    "print(\"olderror: \"+str(olderror))\n",
    "print(\"error: \" + str(error))\n",
    "plt.plot(xvalues, yvalues, \"ro\")\n",
    "plt.plot(oldxvalues, oldyvalues, \"go\")\n",
    "plt.plot(xvalues[26:30], yvalues[26:30], \"co\")\n",
    "plt.plot(xvalues, interps)\n",
    "plt.plot(oldxvalues, oldinterps, \"--c\")\n",
    "plt.errorbar(xvalues, interps, yerr=actualerror, fmt=\"none\")\n",
    "plt.show()\n",
    "\n",
    "dc = np.array(float(input(\"DC Offset: \")))\n",
    "diam = dc*stats[0]+stats[1]\n",
    "print(diam)\n",
    "vol = np.pi/6.0*np.power(diam,3)\n",
    "density = 2.6E-12 # in g/um^3\n",
    "mass = 1.0*vol*density\n",
    "print(mass)\n",
    "masserror = 3*mass*error/diam\n",
    "print(\"Mass: \" + str(mass) + \"±\" + str(masserror))\n",
    "#plt.plot(xvalues, yvalues-interps, \"ro\")\n",
    "#plt.show()\n",
    "#plt.plot(yvalues, xvalues, \"ro\", yvalues, powers10, \"go\")\n",
    "#plt.show()\n",
    "#plt.plot(yvalues, powers10-xvalues, \"bo\")\n",
    "#plt.show()"
   ]
  },
  {
   "cell_type": "code",
   "execution_count": 219,
   "metadata": {
    "collapsed": false,
    "deletable": true,
    "editable": true
   },
   "outputs": [
    {
     "data": {
      "text/plain": [
       "[<matplotlib.lines.Line2D at 0x7fe89f1a1198>]"
      ]
     },
     "execution_count": 219,
     "metadata": {},
     "output_type": "execute_result"
    }
   ],
   "source": [
    "import numpy as np\n",
    "import matplotlib.pyplot as plt\n",
    "\n",
    "def loadcol(colnum, num=1):\n",
    "    return np.loadtxt(\"/home/adam/Downloads/dist=\"+str(num)+\".txt\", skiprows=8, usecols=(colnum,))\n",
    "xdata = loadcol(0,2)\n",
    "ydata = loadcol(1,2)\n",
    "plt.plot(xdata, ydata, \"ro\")\n",
    "#plt.show()"
   ]
  }
 ],
 "metadata": {
  "kernelspec": {
   "display_name": "Python 3",
   "language": "python",
   "name": "python3"
  },
  "language_info": {
   "codemirror_mode": {
    "name": "ipython",
    "version": 3
   },
   "file_extension": ".py",
   "mimetype": "text/x-python",
   "name": "python",
   "nbconvert_exporter": "python",
   "pygments_lexer": "ipython3",
   "version": "3.5.2"
  }
 },
 "nbformat": 4,
 "nbformat_minor": 2
}
