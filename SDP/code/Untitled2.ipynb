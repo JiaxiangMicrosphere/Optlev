{
 "cells": [
  {
   "cell_type": "code",
   "execution_count": 13,
   "metadata": {
    "collapsed": false
   },
   "outputs": [
    {
     "name": "stdout",
     "output_type": "stream",
     "text": [
      "Opening file: /data/20170622/bead4_15um_QWP/reality_noise_test/auto_xyzcool_G100_att_synth10000mV41Hz0mVdc_0.h5\n"
     ]
    }
   ],
   "source": [
    "import numpy as np\n",
    "from matplotlib import pyplot as plt\n",
    "import h5py\n",
    "import os\n",
    "import bead_util as bu\n",
    "\n",
    "Fs = 10000\n",
    "\n",
    "def getdata(fname):\n",
    "        print(\"Opening file: \"+ fname)\n",
    "        ## guess at file type from extension\n",
    "        _, fext = os.path.splitext(fname)\n",
    "        if( fext == \".h5\"):\n",
    "                f = h5py.File(fname,'r')\n",
    "                dset = f['beads/data/pos_data']\n",
    "                dat = np.transpose(dset)\n",
    "                #max_volt = dset.attrs['max_volt']\n",
    "                #nbit = dset.attrs['nbit']\n",
    "                Fs = dset.attrs['Fsamp']\n",
    "\n",
    "                #dat = 1.0*dat*max_volt/nbit\n",
    "                dat = dat * 10./(2**15 - 1)\n",
    "\n",
    "        else:\n",
    "                dat = np.loadtxt(fname, skiprows = 5, usecols = [2, 3, 4, 5, 6] )\n",
    "        #plt.figure()\n",
    "        #plt.plot(dat)\n",
    "        #plt.show()\n",
    "\n",
    "        x = dat[:, bu.xi]-np.mean(dat[:, bu.xi])\n",
    "        drive = dat[:, bu.drive]-np.mean(dat[:, bu.drive])\n",
    "        \n",
    "getdata(\"/data/20170622/bead4_15um_QWP/reality_noise_test/auto_xyzcool_G100_att_synth10000mV41Hz0mVdc_0.h5\")\n"
   ]
  },
  {
   "cell_type": "code",
   "execution_count": null,
   "metadata": {
    "collapsed": true
   },
   "outputs": [],
   "source": []
  },
  {
   "cell_type": "code",
   "execution_count": null,
   "metadata": {
    "collapsed": true
   },
   "outputs": [],
   "source": []
  },
  {
   "cell_type": "code",
   "execution_count": null,
   "metadata": {
    "collapsed": true
   },
   "outputs": [],
   "source": []
  }
 ],
 "metadata": {
  "kernelspec": {
   "display_name": "Python 3",
   "language": "python",
   "name": "python3"
  },
  "language_info": {
   "codemirror_mode": {
    "name": "ipython",
    "version": 3
   },
   "file_extension": ".py",
   "mimetype": "text/x-python",
   "name": "python",
   "nbconvert_exporter": "python",
   "pygments_lexer": "ipython3",
   "version": "3.5.2"
  }
 },
 "nbformat": 4,
 "nbformat_minor": 2
}
