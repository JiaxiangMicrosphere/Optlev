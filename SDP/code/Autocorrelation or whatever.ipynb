{
 "cells": [
  {
   "cell_type": "code",
   "execution_count": 148,
   "metadata": {
    "collapsed": false,
    "scrolled": true
   },
   "outputs": [
    {
     "name": "stdout",
     "output_type": "stream",
     "text": [
      "(-0.00082085978929+0.000390424340711j)\n",
      "(-0.00825800446759+0.00670166931458j)\n",
      "11.7001421086\n"
     ]
    }
   ],
   "source": [
    "import numpy as np\n",
    "import scipy\n",
    "from matplotlib import pyplot as plt\n",
    "from matplotlib import mlab\n",
    "import h5py\n",
    "import os\n",
    "import bead_util as bu\n",
    "\n",
    "fs = 10000\n",
    "noisepath = \"/data/20170622/bead4_15um_QWP/reality_noise_test/\"\n",
    "path = \"/data/20170622/bead4_15um_QWP/reality_test2/\"\n",
    "\n",
    "def getdata(fname):\n",
    "    #print(\"Opening file: \"+ fname)\n",
    "    ## guess at file type from extension\n",
    "    _, fext = os.path.splitext(fname)\n",
    "    if( fext == \".h5\"):\n",
    "            f = h5py.File(fname,'r')\n",
    "            dset = f['beads/data/pos_data']\n",
    "            dat = np.transpose(dset)\n",
    "            #max_volt = dset.attrs['max_volt']\n",
    "            #nbit = dset.attrs['nbit']\n",
    "            Fs = dset.attrs['Fsamp']\n",
    "\n",
    "            #dat = 1.0*dat*max_volt/nbit\n",
    "            dat = dat * 10./(2**15 - 1)\n",
    "\n",
    "\n",
    "    else:\n",
    "            dat = np.loadtxt(fname)\n",
    "    #skiprows was 5 usecols was [2, 3, 4, 5, 6]\n",
    "    #plt.figure()\n",
    "    #plt.plot(dat)\n",
    "    #plt.show()\n",
    "    x = dat[:, bu.xi]-np.mean(dat[:, bu.xi])\n",
    "    drive = dat[:, 7]-np.mean(dat[:, 7])\n",
    "    return x, drive\n",
    "\n",
    "def getNoise(noisepath):\n",
    "    b = 0\n",
    "    Pxx = 0\n",
    "    n = len(os.listdir(noisepath))\n",
    "    for file in os.listdir(noisepath):\n",
    "        noisepart, _ = getdata(os.path.join(noisepath,file))\n",
    "        psdnoise, Pxxt = scipy.signal.periodogram(noisepart, fs = fs)\n",
    "        Pxx = Pxxt + Pxx\n",
    "        b = b + 1\n",
    "        print(str(b)+ \"/\" + str(n), end = \"\\r\")\n",
    "    Pxx = Pxx/b\n",
    "    return psdnoise, Pxx\n",
    "\n",
    "psdnoise, Pxx = getNoise(noisepath)\n",
    "Acomb = 0\n",
    "Acomb2 = 0\n",
    "a = 0\n",
    "m = len(os.listdir(path))\n",
    "for file in os.listdir(path):\n",
    "    _, fext = os.path.splitext(file)\n",
    "    if fext == \".h5\":\n",
    "        x, drive = getdata(os.path.join(path, file))  \n",
    "        drive = drive/np.amax(np.abs(drive))\n",
    "        for i in range(0,len(drive)):\n",
    "            if np.abs(drive[i]) > 1:\n",
    "                drive[i] = 0\n",
    "        drive = drive/np.amax(np.abs(drive))\n",
    "        drive2 = 1-2*drive**2\n",
    "        drive2 = drive2-np.mean(drive2)\n",
    "        drive2 = drive2/np.amax(np.abs(drive2))\n",
    "        N = len(x)\n",
    "        tutti = N/fs\n",
    "        fftx = np.fft.rfft(x)\n",
    "        fftd = np.fft.rfft(drive)\n",
    "        fftd2 = np.fft.rfft(drive2)\n",
    "        Anum = 0\n",
    "        Adenom = 0\n",
    "        Anum2 = 0\n",
    "        Adenom2 = 0\n",
    "        for i in range(0, int(N/2)+1):\n",
    "            tempconj = np.conj(fftd[i])\n",
    "            tempconj2 = np.conj(fftd2[i])\n",
    "            Adenom = Adenom + tempconj*fftd[i]/Pxx[i]\n",
    "            Anum = Anum+tempconj*fftx[i]/Pxx[i]\n",
    "            Adenom2 = Adenom2 + tempconj2*fftd2[i]/Pxx[i]\n",
    "            Anum2 = Anum2+tempconj2*fftx[i]/Pxx[i]\n",
    "        Acomb = Acomb + Anum/Adenom\n",
    "        Acomb2 = Acomb2 + Anum2/Adenom2\n",
    "        a = a + 1\n",
    "        print(str(a)+\"/\"+str(m), end = \"\\r\")\n",
    "Acomb = Acomb/a\n",
    "Acomb2 = Acomb2/a\n",
    "print(Acomb)\n",
    "print(Acomb2)\n",
    "print(np.abs(Acomb2)/np.abs(Acomb))\n",
    "#plt.plot(scipy.signal.periodogram(drive, fs = fs))\n",
    "#plt.show()\n",
    "#plt.plot(scipy.signal.periodogram(drive2, fs = fs))\n",
    "#plt.show()\n"
   ]
  },
  {
   "cell_type": "code",
   "execution_count": null,
   "metadata": {
    "collapsed": true
   },
   "outputs": [],
   "source": []
  },
  {
   "cell_type": "code",
   "execution_count": null,
   "metadata": {
    "collapsed": true
   },
   "outputs": [],
   "source": []
  }
 ],
 "metadata": {
  "kernelspec": {
   "display_name": "Python 3",
   "language": "python",
   "name": "python3"
  },
  "language_info": {
   "codemirror_mode": {
    "name": "ipython",
    "version": 3
   },
   "file_extension": ".py",
   "mimetype": "text/x-python",
   "name": "python",
   "nbconvert_exporter": "python",
   "pygments_lexer": "ipython3",
   "version": "3.5.2"
  }
 },
 "nbformat": 4,
 "nbformat_minor": 2
}
