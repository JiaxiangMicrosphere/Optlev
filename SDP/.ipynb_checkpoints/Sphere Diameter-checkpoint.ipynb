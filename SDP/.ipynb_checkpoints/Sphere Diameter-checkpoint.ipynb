{
 "cells": [
  {
   "cell_type": "code",
   "execution_count": 1,
   "metadata": {
    "collapsed": false,
    "deletable": true,
    "editable": true
   },
   "outputs": [
    {
     "ename": "ImportError",
     "evalue": "No module named skimage",
     "output_type": "error",
     "traceback": [
      "\u001b[0;31m---------------------------------------------------------------------------\u001b[0m",
      "\u001b[0;31mImportError\u001b[0m                               Traceback (most recent call last)",
      "\u001b[0;32m<ipython-input-1-c796c9be39cc>\u001b[0m in \u001b[0;36m<module>\u001b[0;34m()\u001b[0m\n\u001b[0;32m----> 1\u001b[0;31m \u001b[0;32mimport\u001b[0m \u001b[0mskimage\u001b[0m\u001b[0;34m\u001b[0m\u001b[0m\n\u001b[0m\u001b[1;32m      2\u001b[0m \u001b[0;32mfrom\u001b[0m \u001b[0mscipy\u001b[0m \u001b[0;32mimport\u001b[0m \u001b[0mndimage\u001b[0m\u001b[0;34m\u001b[0m\u001b[0m\n\u001b[1;32m      3\u001b[0m \u001b[0;32mfrom\u001b[0m \u001b[0mskimage\u001b[0m \u001b[0;32mimport\u001b[0m \u001b[0mio\u001b[0m\u001b[0;34m\u001b[0m\u001b[0m\n\u001b[1;32m      4\u001b[0m \u001b[0;32mfrom\u001b[0m \u001b[0mskimage\u001b[0m \u001b[0;32mimport\u001b[0m \u001b[0msegmentation\u001b[0m\u001b[0;34m\u001b[0m\u001b[0m\n\u001b[1;32m      5\u001b[0m \u001b[0;32mfrom\u001b[0m \u001b[0mmatplotlib\u001b[0m \u001b[0;32mimport\u001b[0m \u001b[0mpyplot\u001b[0m \u001b[0;32mas\u001b[0m \u001b[0mplt\u001b[0m\u001b[0;34m\u001b[0m\u001b[0m\n",
      "\u001b[0;31mImportError\u001b[0m: No module named skimage"
     ]
    }
   ],
   "source": [
    "import skimage\n",
    "from scipy import ndimage\n",
    "from skimage import io\n",
    "from skimage import segmentation\n",
    "from matplotlib import pyplot as plt\n",
    "from skimage import morphology\n",
    "from skimage import measure\n",
    "import numpy as np\n",
    "image = io.imread(\"/home/adam/Sphere diameter project/good 2 seeded partial.png\")\n",
    "y, x = np.load(\"/home/adam/Sphere diameter project/data.npy\").T\n",
    "markers = np.zeros(image.shape, dtype=np.int)\n",
    "markers[x.astype(np.int), y.astype(np.int)] = np.arange(len(x)) + 1\n",
    "markers = morphology.dilation(markers, morphology.disk(20))\n",
    "rw = segmentation.random_walker(image, markers, beta=100000)\n",
    "properties = measure.regionprops(rw)\n",
    "areas = np.zeros(len(x))\n",
    "for i in range(0,len(x)):\n",
    "    areas[i] = properties[i].area\n",
    "diameters = 2*np.sqrt(areas/np.pi)/6.2\n",
    "print(diameters)\n",
    "#print(watershed)\n",
    "#watershed = skimage.morphology.watershed(image, markers)\n",
    "#plt.imshow(image, cmap=\"gray\")\n",
    "f, axarr = plt.subplots(2, 2)\n",
    "axarr[0, 0].imshow(rw)\n",
    "axarr[0, 1].imshow(image, cmap=\"gray\")\n",
    "axarr[1, 0].imshow(markers)\n",
    "#axarr[1, 1].imshow(watershed, cmap=\"gray\")\n",
    "# Fine-tune figure; hide x ticks for top plots and y ticks for right plots\n",
    "plt.setp([a.get_xticklabels() for a in axarr[0, :]], visible=False)\n",
    "plt.setp([a.get_yticklabels() for a in axarr[:, 1]], visible=False)\n",
    "plt.show()"
   ]
  },
  {
   "cell_type": "code",
   "execution_count": null,
   "metadata": {
    "collapsed": true,
    "deletable": true,
    "editable": true
   },
   "outputs": [],
   "source": []
  }
 ],
 "metadata": {
  "kernelspec": {
   "display_name": "Python 2",
   "language": "python",
   "name": "python2"
  },
  "language_info": {
   "codemirror_mode": {
    "name": "ipython",
    "version": 2
   },
   "file_extension": ".py",
   "mimetype": "text/x-python",
   "name": "python",
   "nbconvert_exporter": "python",
   "pygments_lexer": "ipython2",
   "version": "2.7.12"
  }
 },
 "nbformat": 4,
 "nbformat_minor": 2
}
