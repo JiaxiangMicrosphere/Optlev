{
 "cells": [
  {
   "cell_type": "code",
   "execution_count": 6,
   "metadata": {
    "collapsed": true,
    "deletable": true,
    "editable": true
   },
   "outputs": [],
   "source": [
    "import correlation_steps as corrsteps\n",
    "import correlation, h5py\n",
    "import matplotlib.pyplot as plt\n",
    "import numpy as np\n",
    "import bead_util as bu"
   ]
  },
  {
   "cell_type": "code",
   "execution_count": 7,
   "metadata": {
    "collapsed": true
   },
   "outputs": [],
   "source": [
    "sdns = ['/data/20170726/bead8_15um_QWP/steps/47_3Hz_5/',\n",
    "        '/data/20170726/bead8_15um_QWP/steps/47_3Hz_6_+500/',\n",
    "        '/data/20170726/bead8_15um_QWP/steps/plates_and_flips/',\n",
    "        '/data/20170726/bead1_15um_QWP/steps/47_3/',\n",
    "        '/data/20170726/bead1_15um_QWP/steps/47_3_new/',\n",
    "        '/data/20170726/bead1_15um_QWP/steps/47_3_new2/',\n",
    "        '/data/20170726/bead1_15um_QWP/steps/freq_comb1/',\n",
    "        '/data/20170726/bead1_15um_QWP/steps/freq_comb_2/',\n",
    "        '/data/20170726/bead1_15um_QWP/steps/freq_comb_3/',\n",
    "        '/data/20170726/bead1_15um_QWP/steps/freq_comb_4/']\n",
    "cdns = ['/data/20170726/bead8_15um_QWP/steps/calibration_1positive/',\n",
    "        '/data/20170726/bead8_15um_QWP/steps/calibration_1positive/',\n",
    "        '/data/20170726/bead8_15um_QWP/steps/calibration_1positive/',\n",
    "        '/data/20170726/bead1_15um_QWP/steps/calibration_1positive_47_3Hz/',\n",
    "        '/data/20170726/bead1_15um_QWP/steps/calibration_1positive_47_3Hz/',\n",
    "        '/data/20170726/bead1_15um_QWP/steps/calibration_1positive_47_3Hz/',\n",
    "        '/data/20170726/bead1_15um_QWP/steps/calibration_1positive_freq_comb/',\n",
    "        '/data/20170726/bead1_15um_QWP/steps/calibration_1positive_freq_comb/',\n",
    "        '/data/20170726/bead1_15um_QWP/steps/calibration_1positive_freq_comb/',\n",
    "        '/data/20170726/bead1_15um_QWP/steps/calibration_1positive_freq_comb/']"
   ]
  },
  {
   "cell_type": "code",
   "execution_count": 8,
   "metadata": {
    "collapsed": true
   },
   "outputs": [],
   "source": [
    "def getData(fname, calib=False):\n",
    "    \"\"\" assumes fname ends with a '.h5' \"\"\"\n",
    "    #print 'getting data from ', fname\n",
    "    fdrive = correlation.getFDrive(fname)  # Hz\n",
    "    f = h5py.File(fname, 'r')\n",
    "    dset = f['beads/data/pos_data']\n",
    "    dat = np.transpose(dset)  # all this data is in volts\n",
    "    dat = dat * 10./(2**15 - 1)\n",
    "    x = dat[:, bu.xi]  # V\n",
    "    Fs = dset.attrs['Fsamp']\n",
    "    half_wavelength = int((Fs / fdrive) / 2.)  # bins\n",
    "    x = x[:-half_wavelength]  # V\n",
    "    gain, ACamp = correlation.getGainAndACamp(fname)  # unitless, V\n",
    "    x_data = ((x - np.average(x)) / float(len(x))) / (gain * ACamp)  # unitless\n",
    "    if calib:\n",
    "        drive0 = dat[:, bu.drive]  # V\n",
    "        drive = drive0 - np.average(drive0)\n",
    "        drive_data = drive / np.std(drive)  # normalized, unitless drive\n",
    "        return x_data, drive_data\n",
    "    else:\n",
    "        time = dset.attrs['Time']\n",
    "        return x_data, time\n",
    "\n",
    "def formData(mpath, cpath, change_c=0):\n",
    "    index, c, drive_data = corrsteps.calibrate(cpath)\n",
    "    if change_c != 0:c = change_c\n",
    "    corr, t = ([] for i in range(2))\n",
    "    for f in bu.time_ordered_file_list(mpath):\n",
    "        #print f\n",
    "        x_data, time = getData(f)\n",
    "        corr.append(correlation.correlate(x_data, drive_data, index, c))\n",
    "        t.append(time)\n",
    "    return t, corr"
   ]
  },
  {
   "cell_type": "code",
   "execution_count": 9,
   "metadata": {
    "collapsed": false
   },
   "outputs": [
    {
     "name": "stdout",
     "output_type": "stream",
     "text": [
      "/data/20170726/bead8_15um_QWP/steps/47_3Hz_5/\n",
      "phase shift is  106\n",
      "calibrating constant c =  7.54649426371e+12\n"
     ]
    },
    {
     "data": {
      "image/png": "[encoded data removed]",
      "text/plain": [
       "<matplotlib.figure.Figure at 0x7efdb68b7fd0>"
      ]
     },
     "metadata": {},
     "output_type": "display_data"
    },
    {
     "name": "stdout",
     "output_type": "stream",
     "text": [
      "/data/20170726/bead8_15um_QWP/steps/47_3Hz_6_+500/\n",
      "phase shift is  106\n",
      "calibrating constant c =  7.54649426371e+12\n"
     ]
    },
    {
     "data": {
      "image/png": "[encoded data removed]",
      "text/plain": [
       "<matplotlib.figure.Figure at 0x7efdb67a8990>"
      ]
     },
     "metadata": {},
     "output_type": "display_data"
    },
    {
     "name": "stdout",
     "output_type": "stream",
     "text": [
      "/data/20170726/bead8_15um_QWP/steps/plates_and_flips/\n",
      "phase shift is  106\n",
      "calibrating constant c =  7.54649426371e+12\n"
     ]
    },
    {
     "data": {
      "image/png": "[encoded data removed]",
      "text/plain": [
       "<matplotlib.figure.Figure at 0x7efdb6804a90>"
      ]
     },
     "metadata": {},
     "output_type": "display_data"
    },
    {
     "name": "stdout",
     "output_type": "stream",
     "text": [
      "/data/20170726/bead1_15um_QWP/steps/47_3/\n",
      "phase shift is  106\n",
      "calibrating constant c =  3.41275427782e+12\n"
     ]
    },
    {
     "data": {
      "image/png": "[encoded data removed]",
      "text/plain": [
       "<matplotlib.figure.Figure at 0x7efdb6867f10>"
      ]
     },
     "metadata": {},
     "output_type": "display_data"
    },
    {
     "name": "stdout",
     "output_type": "stream",
     "text": [
      "/data/20170726/bead1_15um_QWP/steps/47_3_new/\n",
      "phase shift is  106\n",
      "calibrating constant c =  3.41275427782e+12\n"
     ]
    },
    {
     "ename": "ValueError",
     "evalue": "operands could not be broadcast together with shapes (397,) (396,) ",
     "output_type": "error",
     "traceback": [
      "\u001b[0;31m---------------------------------------------------------------------------\u001b[0m",
      "\u001b[0;31mValueError\u001b[0m                                Traceback (most recent call last)",
      "\u001b[0;32m<ipython-input-9-5fb6e237516c>\u001b[0m in \u001b[0;36m<module>\u001b[0;34m()\u001b[0m\n\u001b[1;32m      4\u001b[0m     \u001b[0mtime_p\u001b[0m \u001b[0;34m=\u001b[0m \u001b[0mnp\u001b[0m\u001b[0;34m.\u001b[0m\u001b[0marray\u001b[0m\u001b[0;34m(\u001b[0m\u001b[0mt\u001b[0m\u001b[0;34m[\u001b[0m\u001b[0;36m0\u001b[0m\u001b[0;34m:\u001b[0m\u001b[0;34m:\u001b[0m\u001b[0;36m2\u001b[0m\u001b[0;34m]\u001b[0m\u001b[0;34m)\u001b[0m\u001b[0;34m\u001b[0m\u001b[0m\n\u001b[1;32m      5\u001b[0m     \u001b[0mtime_n\u001b[0m \u001b[0;34m=\u001b[0m \u001b[0mnp\u001b[0m\u001b[0;34m.\u001b[0m\u001b[0marray\u001b[0m\u001b[0;34m(\u001b[0m\u001b[0mt\u001b[0m\u001b[0;34m[\u001b[0m\u001b[0;36m1\u001b[0m\u001b[0;34m:\u001b[0m\u001b[0;34m:\u001b[0m\u001b[0;36m2\u001b[0m\u001b[0;34m]\u001b[0m\u001b[0;34m)\u001b[0m\u001b[0;34m\u001b[0m\u001b[0m\n\u001b[0;32m----> 6\u001b[0;31m     \u001b[0mtime\u001b[0m \u001b[0;34m=\u001b[0m \u001b[0;34m(\u001b[0m\u001b[0mtime_p\u001b[0m\u001b[0;34m+\u001b[0m\u001b[0mtime_n\u001b[0m\u001b[0;34m)\u001b[0m\u001b[0;34m/\u001b[0m\u001b[0;36m2\u001b[0m\u001b[0;34m\u001b[0m\u001b[0m\n\u001b[0m\u001b[1;32m      7\u001b[0m     \u001b[0mtime\u001b[0m \u001b[0;34m=\u001b[0m \u001b[0mtime\u001b[0m \u001b[0;34m-\u001b[0m \u001b[0mtime\u001b[0m\u001b[0;34m[\u001b[0m\u001b[0;36m0\u001b[0m\u001b[0;34m]\u001b[0m\u001b[0;34m\u001b[0m\u001b[0m\n\u001b[1;32m      8\u001b[0m     \u001b[0mcorr_p\u001b[0m \u001b[0;34m=\u001b[0m \u001b[0mcorr\u001b[0m\u001b[0;34m[\u001b[0m\u001b[0;36m0\u001b[0m\u001b[0;34m:\u001b[0m\u001b[0;34m:\u001b[0m\u001b[0;36m2\u001b[0m\u001b[0;34m]\u001b[0m\u001b[0;34m\u001b[0m\u001b[0m\n",
      "\u001b[0;31mValueError\u001b[0m: operands could not be broadcast together with shapes (397,) (396,) "
     ]
    }
   ],
   "source": [
    "for measurement_path, calibration_path in zip(sdns, cdns):\n",
    "    print measurement_path\n",
    "    t, corr = formData(measurement_path, calibration_path)\n",
    "    i = 0\n",
    "    if len(t[0::2]) != len(t[1::2]):\n",
    "        i = 2\n",
    "    time_p = np.array(t[i::2])\n",
    "    time_n = np.array(t[1::2])\n",
    "    time = (time_p+time_n)/2\n",
    "    time = time - time[0]\n",
    "    corr_p = corr[i::2]\n",
    "    corr_n = corr[1::2]\n",
    "    corr_s = np.array(corr_p)+np.array(corr_n)\n",
    "\n",
    "    plt.figure()\n",
    "    plt.plot(time,corr_p,'o', label='(+) voltage')\n",
    "    plt.plot(time,corr_n,'o', label='(-) voltage')\n",
    "    plt.plot(time,corr_s,'o', label='sum')\n",
    "    plt.show()"
   ]
  },
  {
   "cell_type": "code",
   "execution_count": null,
   "metadata": {
    "collapsed": false
   },
   "outputs": [
    {
     "name": "stdout",
     "output_type": "stream",
     "text": [
      "/data/20170726/bead1_15um_QWP/steps/47_3_new/\n",
      "phase shift is  106\n",
      "calibrating constant c =  3.41275427782e+12\n"
     ]
    }
   ],
   "source": [
    "for measurement_path, calibration_path in zip(sdns[4:], cdns[4:]):\n",
    "    print measurement_path\n",
    "    t, corr = formData(measurement_path, calibration_path)\n",
    "    i = 0\n",
    "    if len(t[0::2]) != len(t[1::2]):\n",
    "        i = 2\n",
    "    time_p = np.array(t[i::2])\n",
    "    time_n = np.array(t[1::2])\n",
    "    time = (time_p+time_n)/2\n",
    "    time = time - time[0]\n",
    "    corr_p = corr[i::2]\n",
    "    corr_n = corr[1::2]\n",
    "    corr_s = np.array(corr_p)+np.array(corr_n)\n",
    "\n",
    "    plt.figure()\n",
    "    plt.plot(time,corr_p,'o', label='(+) voltage')\n",
    "    plt.plot(time,corr_n,'o', label='(-) voltage')\n",
    "    plt.plot(time,corr_s,'o', label='sum')\n",
    "    plt.show()"
   ]
  },
  {
   "cell_type": "code",
   "execution_count": 3,
   "metadata": {
    "collapsed": false,
    "deletable": true,
    "editable": true
   },
   "outputs": [
    {
     "name": "stdout",
     "output_type": "stream",
     "text": [
      "phase shift is  106\n",
      "calibrating constant c =  7.54649426371e+12\n"
     ]
    },
    {
     "ename": "ValueError",
     "evalue": "could not convert string to float: ",
     "output_type": "error",
     "traceback": [
      "\u001b[0;31m---------------------------------------------------------------------------\u001b[0m",
      "\u001b[0;31mValueError\u001b[0m                                Traceback (most recent call last)",
      "\u001b[0;32m<ipython-input-3-8bc22c61a3f6>\u001b[0m in \u001b[0;36m<module>\u001b[0;34m()\u001b[0m\n\u001b[0;32m----> 1\u001b[0;31m \u001b[0mt\u001b[0m\u001b[0;34m,\u001b[0m \u001b[0mdc\u001b[0m\u001b[0;34m,\u001b[0m \u001b[0mcorr\u001b[0m \u001b[0;34m=\u001b[0m \u001b[0mcorrsteps\u001b[0m\u001b[0;34m.\u001b[0m\u001b[0mformData\u001b[0m\u001b[0;34m(\u001b[0m\u001b[0;34m'/data/20170726/bead8_15um_QWP/steps/plates_and_flips/'\u001b[0m\u001b[0;34m,\u001b[0m \u001b[0;34m'/data/20170726/bead8_15um_QWP/steps/calibration_1positive/'\u001b[0m\u001b[0;34m)\u001b[0m\u001b[0;34m\u001b[0m\u001b[0m\n\u001b[0m",
      "\u001b[0;32m/home/sumita/Optlev/scripts/correlation_steps.py\u001b[0m in \u001b[0;36mformData\u001b[0;34m(mpath, cpath, change_c)\u001b[0m\n\u001b[1;32m     79\u001b[0m     \u001b[0;32mfor\u001b[0m \u001b[0mf\u001b[0m \u001b[0;32min\u001b[0m \u001b[0mglob\u001b[0m\u001b[0;34m.\u001b[0m\u001b[0mglob\u001b[0m\u001b[0;34m(\u001b[0m\u001b[0mos\u001b[0m\u001b[0;34m.\u001b[0m\u001b[0mpath\u001b[0m\u001b[0;34m.\u001b[0m\u001b[0mjoin\u001b[0m\u001b[0;34m(\u001b[0m\u001b[0mmpath\u001b[0m\u001b[0;34m,\u001b[0m \u001b[0;34m\"*.h5\"\u001b[0m\u001b[0;34m)\u001b[0m\u001b[0;34m)\u001b[0m\u001b[0;34m:\u001b[0m\u001b[0;34m\u001b[0m\u001b[0m\n\u001b[1;32m     80\u001b[0m         \u001b[0;31m#print f\u001b[0m\u001b[0;34m\u001b[0m\u001b[0;34m\u001b[0m\u001b[0m\n\u001b[0;32m---> 81\u001b[0;31m         \u001b[0mx_data\u001b[0m\u001b[0;34m,\u001b[0m \u001b[0mbgDC\u001b[0m\u001b[0;34m,\u001b[0m \u001b[0mtime\u001b[0m \u001b[0;34m=\u001b[0m \u001b[0mgetData\u001b[0m\u001b[0;34m(\u001b[0m\u001b[0mf\u001b[0m\u001b[0;34m)\u001b[0m\u001b[0;34m\u001b[0m\u001b[0m\n\u001b[0m\u001b[1;32m     82\u001b[0m         \u001b[0mcorr\u001b[0m\u001b[0;34m.\u001b[0m\u001b[0mappend\u001b[0m\u001b[0;34m(\u001b[0m\u001b[0mcorrelation\u001b[0m\u001b[0;34m.\u001b[0m\u001b[0mcorrelate\u001b[0m\u001b[0;34m(\u001b[0m\u001b[0mx_data\u001b[0m\u001b[0;34m,\u001b[0m \u001b[0mdrive_data\u001b[0m\u001b[0;34m,\u001b[0m \u001b[0mindex\u001b[0m\u001b[0;34m,\u001b[0m \u001b[0mc\u001b[0m\u001b[0;34m)\u001b[0m\u001b[0;34m)\u001b[0m\u001b[0;34m\u001b[0m\u001b[0m\n\u001b[1;32m     83\u001b[0m         \u001b[0mdc\u001b[0m\u001b[0;34m.\u001b[0m\u001b[0mappend\u001b[0m\u001b[0;34m(\u001b[0m\u001b[0mbgDC\u001b[0m\u001b[0;34m)\u001b[0m\u001b[0;34m\u001b[0m\u001b[0m\n",
      "\u001b[0;32m/home/sumita/Optlev/scripts/correlation_steps.py\u001b[0m in \u001b[0;36mgetData\u001b[0;34m(fname, calib)\u001b[0m\n\u001b[1;32m     39\u001b[0m     \u001b[0;32melse\u001b[0m\u001b[0;34m:\u001b[0m\u001b[0;34m\u001b[0m\u001b[0m\n\u001b[1;32m     40\u001b[0m         \u001b[0mtime\u001b[0m \u001b[0;34m=\u001b[0m \u001b[0mdset\u001b[0m\u001b[0;34m.\u001b[0m\u001b[0mattrs\u001b[0m\u001b[0;34m[\u001b[0m\u001b[0;34m'Time'\u001b[0m\u001b[0;34m]\u001b[0m\u001b[0;34m\u001b[0m\u001b[0m\n\u001b[0;32m---> 41\u001b[0;31m         \u001b[0mbgDC\u001b[0m \u001b[0;34m=\u001b[0m \u001b[0mgetBackgroundDC\u001b[0m\u001b[0;34m(\u001b[0m\u001b[0mfname\u001b[0m\u001b[0;34m)\u001b[0m\u001b[0;34m\u001b[0m\u001b[0m\n\u001b[0m\u001b[1;32m     42\u001b[0m         \u001b[0;32mreturn\u001b[0m \u001b[0mx_data\u001b[0m\u001b[0;34m,\u001b[0m \u001b[0mbgDC\u001b[0m\u001b[0;34m,\u001b[0m \u001b[0mtime\u001b[0m\u001b[0;34m\u001b[0m\u001b[0m\n\u001b[1;32m     43\u001b[0m \u001b[0;34m\u001b[0m\u001b[0m\n",
      "\u001b[0;32m/home/sumita/Optlev/scripts/correlation_steps.py\u001b[0m in \u001b[0;36mgetBackgroundDC\u001b[0;34m(fname)\u001b[0m\n\u001b[1;32m     14\u001b[0m     \u001b[0;32mif\u001b[0m \u001b[0;34m'mVDCbg'\u001b[0m \u001b[0;32min\u001b[0m \u001b[0mfname\u001b[0m\u001b[0;34m:\u001b[0m\u001b[0;34m\u001b[0m\u001b[0m\n\u001b[1;32m     15\u001b[0m         \u001b[0mj\u001b[0m \u001b[0;34m=\u001b[0m \u001b[0mfname\u001b[0m\u001b[0;34m.\u001b[0m\u001b[0mrfind\u001b[0m\u001b[0;34m(\u001b[0m\u001b[0;34m'mVDCbg'\u001b[0m\u001b[0;34m)\u001b[0m\u001b[0;34m\u001b[0m\u001b[0m\n\u001b[0;32m---> 16\u001b[0;31m         \u001b[0;32mreturn\u001b[0m \u001b[0mfloat\u001b[0m\u001b[0;34m(\u001b[0m\u001b[0mfname\u001b[0m\u001b[0;34m[\u001b[0m\u001b[0mi\u001b[0m\u001b[0;34m:\u001b[0m\u001b[0mj\u001b[0m\u001b[0;34m]\u001b[0m\u001b[0;34m)\u001b[0m \u001b[0;34m/\u001b[0m \u001b[0;36m1000.\u001b[0m\u001b[0;34m\u001b[0m\u001b[0m\n\u001b[0m\u001b[1;32m     17\u001b[0m     \u001b[0;32mreturn\u001b[0m \u001b[0mfloat\u001b[0m\u001b[0;34m(\u001b[0m\u001b[0mfname\u001b[0m\u001b[0;34m[\u001b[0m\u001b[0mi\u001b[0m\u001b[0;34m:\u001b[0m\u001b[0mj\u001b[0m\u001b[0;34m]\u001b[0m\u001b[0;34m)\u001b[0m\u001b[0;34m\u001b[0m\u001b[0m\n\u001b[1;32m     18\u001b[0m \u001b[0;34m\u001b[0m\u001b[0m\n",
      "\u001b[0;31mValueError\u001b[0m: could not convert string to float: "
     ]
    }
   ],
   "source": [
    "t, dc, corr = corrsteps.formData(mpath, cpath)"
   ]
  },
  {
   "cell_type": "code",
   "execution_count": null,
   "metadata": {
    "collapsed": true,
    "deletable": true,
    "editable": true
   },
   "outputs": [],
   "source": [
    "time_p = np.array(t[0::2])\n",
    "time_n = np.array(t[1::2])\n",
    "time = (time_p+time_n)/2\n",
    "time = time - time[0]\n",
    "corr_p = corr[0::2]\n",
    "corr_n = corr[1::2]\n",
    "corr_s = np.array(corr_p)+np.array(corr_n)"
   ]
  },
  {
   "cell_type": "code",
   "execution_count": null,
   "metadata": {
    "collapsed": false,
    "deletable": true,
    "editable": true
   },
   "outputs": [],
   "source": [
    "len(time)"
   ]
  },
  {
   "cell_type": "code",
   "execution_count": null,
   "metadata": {
    "collapsed": false,
    "deletable": true,
    "editable": true
   },
   "outputs": [],
   "source": [
    "import matplotlib\n",
    "%matplotlib notebook\n",
    "\n",
    "plt.rc('text', usetex=True)\n",
    "#plt.rc('font', family='serif')\n",
    "font = {'family' : 'normal',\n",
    "        'weight' : 'bold',\n",
    "        'size'   : 24}\n",
    "matplotlib.rc('font', **font)\n",
    "matplotlib.rcParams['text.latex.preamble'] = [r'\\boldmath']\n",
    "\n",
    "plt.plot(time,corr_p,'o', label='(+) voltage')\n",
    "plt.plot(time,corr_n,'o', label='(-) voltage')\n",
    "plt.plot(time,corr_s,'o', label='sum')\n",
    "plt.xlabel('time [s]')\n",
    "plt.ylabel('correlation [e]')\n",
    "plt.legend(prop={'size': 22}, loc=1)\n",
    "\n",
    "plt.grid()\n",
    "plt.show()"
   ]
  },
  {
   "cell_type": "code",
   "execution_count": null,
   "metadata": {
    "collapsed": false,
    "deletable": true,
    "editable": true
   },
   "outputs": [],
   "source": [
    "plt.plot(time[::3],corr_p[::3],'o', label='(+) voltage')\n",
    "plt.plot(time[::3],corr_n[::3],'o', label='(-) voltage')\n",
    "plt.plot(time[::3],corr_s[::3],'o', label='sum')\n",
    "plt.xlabel('time [s]')\n",
    "plt.ylabel('correlation [e]')\n",
    "plt.legend()\n",
    "plt.show()"
   ]
  },
  {
   "cell_type": "code",
   "execution_count": null,
   "metadata": {
    "collapsed": false,
    "deletable": true,
    "editable": true
   },
   "outputs": [],
   "source": [
    "# COMMENT THIS OUT IF THE SPHERE HASN'T FALLEN\n",
    "# t, dc, corr = zip(*zip(t[:len(corr)/2], dc[:len(corr)/2], corr[:len(corr)/2]))"
   ]
  },
  {
   "cell_type": "code",
   "execution_count": null,
   "metadata": {
    "collapsed": false,
    "deletable": true,
    "editable": true
   },
   "outputs": [],
   "source": [
    "dc_corr_list_pos = []\n",
    "dc_corr_list_neg = [0]\n",
    "i = 0\n",
    "for i in range(len(corr)):\n",
    "    if dc[i] < 0:\n",
    "        dc_corr_list_pos[-1]+=corr[i]\n",
    "        dc_corr_list_neg.append(corr[i])\n",
    "    else:\n",
    "        dc_corr_list_pos.append(corr[i])\n",
    "        dc_corr_list_neg[-1]+=corr[i]\n",
    "dc_corr_list_neg = dc_corr_list_neg[1:]\n",
    "time_steps = t[::2]\n",
    "time_steps = np.array(time_steps) - time_steps[0]"
   ]
  },
  {
   "cell_type": "code",
   "execution_count": null,
   "metadata": {
    "collapsed": true,
    "deletable": true,
    "editable": true
   },
   "outputs": [],
   "source": [
    "from scipy.optimize import curve_fit\n",
    "from scipy.stats import norm\n",
    "\n",
    "def gaussian_distribution(x, A, u, sigma):\n",
    "    return A * np.exp(-(x - u) ** 2 / (2 * sigma ** 2))"
   ]
  },
  {
   "cell_type": "code",
   "execution_count": null,
   "metadata": {
    "collapsed": false,
    "deletable": true,
    "editable": true
   },
   "outputs": [],
   "source": [
    "%matplotlib notebook\n",
    "\n",
    "# plot the figure\n",
    "pn, binp, patchs = plt.hist(dc_corr_list_pos, bins=50, normed=True, alpha=0.6, color='b')\n",
    "mup, stdp = norm.fit(dc_corr_list_pos)\n",
    "nn, binn, patchs = plt.hist(dc_corr_list_neg, bins=50, normed=True, alpha=0.6, color='y')\n",
    "mun, stdn = norm.fit(dc_corr_list_neg)\n",
    "\n",
    "plt.xlabel('Correlation [e]')\n",
    "plt.ylabel('Occurances of correlation value')\n",
    "\n",
    "plt.title('Blue = Normal Pairing; Yellow = Next Pairing')\n",
    "\n",
    "plt.show()\n",
    "\n",
    "mp = float(max(pn))\n",
    "mn = float(max(nn))\n",
    "\n",
    "if mup > 0:\n",
    "    lboundp = [0.1*mp, 0.1*mup, 0.1*stdp]\n",
    "    uboundp = [1.2*mp, 1.2*mup, 1.2*stdp]\n",
    "else:\n",
    "    lboundp = [0.1*mp, 1.2*mup, 0.1*stdp]\n",
    "    uboundp = [1.2*mp, 0.1*mup, 1.2*stdp]\n",
    "\n",
    "if mun > 0:\n",
    "    lboundn = [0.1*mn, 0.1*mun, 0.1*stdn]\n",
    "    uboundn = [1.2*mn, 1.2*mun, 1.2*stdn]\n",
    "else:\n",
    "    lboundn = [0.1*mn, 1.2*mun, 0.1*stdn]\n",
    "    uboundn = [1.2*mn, 0.1*mun, 1.2*stdn]\n",
    "\n",
    "plt.figure()\n",
    "\n",
    "x = sorted(list(set(np.concatenate((binp, binn)))))\n",
    "p = norm.pdf(x, mup, stdp)\n",
    "plt.plot(x, p, 'g', linewidth=2)\n",
    "n = norm.pdf(x, mun, stdn)\n",
    "plt.plot(x, n, 'r', linewidth=2)\n",
    "\n",
    "xp = (binp[1:] + binp[:-1]) / 2.\n",
    "xn = (binn[1:] + binn[:-1]) / 2.\n",
    "\n",
    "poptp, pcovp = curve_fit(gaussian_distribution, xp, pn, bounds=(lboundp, uboundp))\n",
    "perrp = np.sqrt(np.diag(pcovp))\n",
    "fitted_data_p = gaussian_distribution(xp, *poptp)\n",
    "plt.plot(xp, fitted_data_p, 'b')\n",
    "plt.errorbar(xp, pn, yerr=np.sqrt(pn), fmt='bo')\n",
    "\n",
    "poptn, pcovn = curve_fit(gaussian_distribution, xn, nn, bounds=(lboundn, uboundn))\n",
    "perrn = np.sqrt(np.diag(pcovn))\n",
    "fitted_data_n = gaussian_distribution(xn, *poptn)\n",
    "plt.plot(xn, fitted_data_n, 'y')\n",
    "plt.errorbar(xn, nn, yerr=np.sqrt(nn), fmt='yo')\n",
    "\n",
    "plt.xlabel('Correlation [e]')\n",
    "plt.ylabel('Occurances of correlation value')\n",
    "\n",
    "plt.title('Blue/Green = First; Yellow/Red = Second')\n",
    "\n",
    "plt.show()"
   ]
  },
  {
   "cell_type": "code",
   "execution_count": null,
   "metadata": {
    "collapsed": false,
    "deletable": true,
    "editable": true
   },
   "outputs": [],
   "source": [
    "# print parameters\n",
    "print 'fitting pos to gaussian gives:'\n",
    "print '           mean = ', poptp[1], ' with error ', perrp[1]\n",
    "print '    actual mean = ', mup\n",
    "print ''\n",
    "print '           standard deviation = ', poptp[2], ' with error ', perrp[2]\n",
    "print '    actual standard deviation = ', stdp\n",
    "print ''\n",
    "print ''\n",
    "print 'fitting neg to gaussian gives:'\n",
    "print '           mean = ', poptn[1], ' with error ', perrn[1]\n",
    "print '    actual mean = ', mun\n",
    "print ''\n",
    "print '           standard deviation = ', poptn[2], ' with error ', perrn[2]\n",
    "print '    actual standard deviation = ', stdn"
   ]
  }
 ],
 "metadata": {
  "kernelspec": {
   "display_name": "Python 2",
   "language": "python",
   "name": "python2"
  },
  "language_info": {
   "codemirror_mode": {
    "name": "ipython",
    "version": 2
   },
   "file_extension": ".py",
   "mimetype": "text/x-python",
   "name": "python",
   "nbconvert_exporter": "python",
   "pygments_lexer": "ipython2",
   "version": "2.7.12"
  }
 },
 "nbformat": 4,
 "nbformat_minor": 2
}
