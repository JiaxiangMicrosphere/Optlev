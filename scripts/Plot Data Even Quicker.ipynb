{
 "cells": [
  {
   "cell_type": "markdown",
   "metadata": {},
   "source": [
    "# This is a copy of the original Python Code\n",
    "### Scroll to the bottom, define two variables (datafile1 and datafile2) and a file pathname (pathname), then type in plotdata(datafile1, datafile2, pathname) and hit enter."
   ]
  },
  {
   "cell_type": "code",
   "execution_count": 1,
   "metadata": {
    "collapsed": true
   },
   "outputs": [],
   "source": [
    "#Imports\n",
    "import numpy, h5py, matplotlib\n",
    "import matplotlib.pyplot as plt\n",
    "import os\n",
    "import scipy.signal as sp\n",
    "import numpy as np\n",
    "%matplotlib notebook"
   ]
  },
  {
   "cell_type": "code",
   "execution_count": 6,
   "metadata": {
    "collapsed": false
   },
   "outputs": [],
   "source": [
    "def getdata(fname):\n",
    "    \"Opens the data file and turns it into usable data.\"\n",
    "    print \"Opening file: \", fname\n",
    "    ## guess at file type from extension\n",
    "    _, fext = os.path.splitext( fname )\n",
    "    if( fext == \".h5\"):\n",
    "\t\tf = h5py.File(fname,'r')\n",
    "\t\tdset = f['beads/data/pos_data']\n",
    "\t\tdat = numpy.transpose(dset)\n",
    "\t\t#max_volt = dset.attrs['max_volt']\n",
    "\t\t#nbit = dset.attrs['nbit']\n",
    "\t\tFs = dset.attrs['Fsamp']\n",
    "\t\t\n",
    "\t\t#dat = 1.0*dat*max_volt/nbit\n",
    "                dat = dat * 10./(2**15 - 1)\n",
    "                \n",
    "    else:\n",
    "\t\tdat = numpy.loadtxt(fname, skiprows = 5, usecols = [2, 3, 4, 5, 6] )\n",
    "\n",
    "    xpsd, freqs = matplotlib.mlab.psd(dat[:, 0]-numpy.mean(dat[:, 0]), Fs = Fs, NFFT = NFFT) \n",
    "    ypsd, freqs = matplotlib.mlab.psd(dat[:, 1]-numpy.mean(dat[:, 1]), Fs = Fs, NFFT = NFFT)\n",
    "    zpsd, freqs = matplotlib.mlab.psd(dat[:, 2]-numpy.mean(dat[:, 2]), Fs = Fs, NFFT = NFFT)\n",
    "\n",
    "    norm = numpy.median(dat[:, 2])\n",
    "    #for h in [xpsd, ypsd, zpsd]:\n",
    "    #\th /= numpy.median(dat[:,2])**2\n",
    "    return [freqs, xpsd, ypsd, dat, zpsd]"
   ]
  },
  {
   "cell_type": "code",
   "execution_count": null,
   "metadata": {
    "collapsed": true
   },
   "outputs": [],
   "source": [
    "def rotate(vec1, vec2, theta):\n",
    "    \"Rotates basis\"\n",
    "    vecn1 = numpy.cos(theta)*vec1 + numpy.sin(theta)*vec2\n",
    "    vecn2 = numpy.sin(theta)*vec1 + numpy.cos(theta)*vec2\n",
    "    return [vec1, vec2]"
   ]
  },
  {
   "cell_type": "code",
   "execution_count": null,
   "metadata": {
    "collapsed": false
   },
   "outputs": [],
   "source": [
    "def plotdata( refname, fname0, path ):\n",
    "    \"Generates plots from data\"\n",
    "    make_plot_vs_time = True\n",
    "    conv_fac = 4.4e-14\n",
    "    if fname0 == \"\":\n",
    "        filelist = os.listdir(path)\n",
    "\n",
    "        mtime = 0\n",
    "        mrf = \"\"\n",
    "        for fin in filelist:\n",
    "            f = os.path.join(path, fin) \n",
    "            if os.path.getmtime(f)>mtime:\n",
    "                mrf = f\n",
    "                mtime = os.path.getmtime(f) \n",
    " \n",
    "        fname0 = mrf\t\t\n",
    "\n",
    "\n",
    "             \n",
    "\n",
    "    Fs = 10e3  ## this is ignored with HDF5 files\n",
    "    NFFT = 2**11\n",
    "\n",
    "\n",
    "\n",
    "    data0 = getdata(os.path.join(path, fname0))\n",
    "\n",
    "\n",
    "\n",
    "\n",
    "    if refname:\n",
    "        data1 = getdata(os.path.join(path, refname))\n",
    "    Fs = 10000\n",
    "    b, a = sp.butter(1, [2*5./Fs, 2*10./Fs], btype = 'bandpass')\n",
    "\n",
    "    if make_plot_vs_time:\t\n",
    "\n",
    "        fig = plt.figure()\n",
    "        plt.subplot(3, 1, 1)\n",
    "\n",
    "        plt.plot(data0[3][:,0] - np.mean(data0[3][:, 0]) )\n",
    "        if(refname):\n",
    "                plt.plot(data1[3][:, 0] - np.mean(data1[3][:, 0]) )\n",
    "\n",
    "        plt.subplot(3, 1, 2)\n",
    "        plt.plot(data0[3][:, 1] - np.mean(data0[3][:, 1]) )\n",
    "        if(refname):\n",
    "                plt.plot(data1[3][:, 1] - np.mean(data1[3][:, 1]) )\n",
    "\n",
    "        plt.subplot(3, 1, 3)\n",
    "        plt.plot(data0[3][:, 2] - np.mean(data0[3][:, 2]) )\n",
    "        if(refname):\n",
    "                plt.plot(data1[3][:, 2] - np.mean(data1[3][:, 2]) )\n",
    "       \n",
    "\n",
    "    fig = plt.figure()\n",
    "    plt.subplot(3, 1, 1)\n",
    "    plt.loglog(data0[0], np.sqrt(data0[1]),label=\"test\")\n",
    "    if refname:\n",
    "        plt.loglog(data1[0], np.sqrt(data1[1]),label=\"ref\")\n",
    "    plt.ylabel(\"V$^2$/Hz\")\n",
    "    plt.legend(loc=3)\n",
    "    plt.subplot(3, 1, 2)\n",
    "    plt.loglog(data0[0], np.sqrt(data0[2]))\n",
    "    if refname:\n",
    "        plt.loglog(data1[0], np.sqrt(data1[2]))\n",
    "    plt.subplot(3, 1, 3)\n",
    "    plt.loglog(data0[0],  np.sqrt(data0[4]))\n",
    "    if refname:\n",
    "        plt.loglog(data1[0], np.sqrt(data1[4]))\n",
    "    plt.ylabel(\"V$^2$/Hz\")\n",
    "    plt.xlabel(\"Frequency[Hz]\")\n",
    "    plt.show()\n",
    "    return"
   ]
  },
  {
   "cell_type": "code",
   "execution_count": null,
   "metadata": {
    "collapsed": false,
    "scrolled": false
   },
   "outputs": [],
   "source": [
    "# Select the files to plot\n",
    "# Make sure to add relevant data in the comments\n",
    "# Here are two examples:\n",
    "refname = r\"2_0mbar_xyzcool_neg.h5\"\n",
    "fname0 = r\"\"\n",
    "path = r\"C:\\Data\\20170227\\bead1\"\n",
    "plotdata(refname,fname0,path)"
   ]
  },
  {
   "cell_type": "code",
   "execution_count": null,
   "metadata": {
    "collapsed": false
   },
   "outputs": [],
   "source": [
    "refname = r\"\"\n",
    "fname0 = r\"xout_100Hz_1.h5\"\n",
    "path = r\"C:\\Data\\20170224\\xy_test\\feedback_test\"\n",
    "plotdata(refname,fname0,path)"
   ]
  },
  {
   "cell_type": "code",
   "execution_count": null,
   "metadata": {
    "collapsed": true
   },
   "outputs": [],
   "source": []
  }
 ],
 "metadata": {
  "kernelspec": {
   "display_name": "Python 2",
   "language": "python",
   "name": "python2"
  },
  "language_info": {
   "codemirror_mode": {
    "name": "ipython",
    "version": 2
   },
   "file_extension": ".py",
   "mimetype": "text/x-python",
   "name": "python",
   "nbconvert_exporter": "python",
   "pygments_lexer": "ipython2",
   "version": "2.7.13"
  }
 },
 "nbformat": 4,
 "nbformat_minor": 2
}
